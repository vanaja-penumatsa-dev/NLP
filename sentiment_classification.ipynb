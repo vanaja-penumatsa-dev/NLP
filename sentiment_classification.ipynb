{
  "cells": [
    {
      "cell_type": "code",
      "execution_count": 54,
      "id": "5429a667",
      "metadata": {
        "colab": {
          "base_uri": "https://localhost:8080/"
        },
        "id": "5429a667",
        "outputId": "b43291cc-da43-4c99-afce-cc550ee1418a"
      },
      "outputs": [
        {
          "output_type": "stream",
          "name": "stderr",
          "text": [
            "[nltk_data] Downloading package punkt to /root/nltk_data...\n",
            "[nltk_data]   Package punkt is already up-to-date!\n",
            "[nltk_data] Downloading package stopwords to /root/nltk_data...\n",
            "[nltk_data]   Unzipping corpora/stopwords.zip.\n"
          ]
        }
      ],
      "source": [
        "'''import pickle\n",
        "import pandas as pd\n",
        "import seaborn as sns\n",
        "import matplotlib.pyplot as plt\n",
        "from collections import Counter\n",
        "\n",
        "import nltk\n",
        "from nltk.corpus import stopwords\n",
        "from nltk.stem import PorterStemmer, LancasterStemmer\n",
        "from nltk.tokenize import sent_tokenize, word_tokenize, RegexpTokenizer\n",
        "\n",
        "from sklearn.metrics import accuracy_score\n",
        "from sklearn.linear_model import LogisticRegression\n",
        "from sklearn.model_selection import train_test_split\n",
        "from sklearn.feature_extraction.text import CountVectorizer, TfidfVectorizer\n",
        "\n",
        "%matplotlib inline\n",
        "'''\n",
        "import pickle\n",
        "import pandas as pd\n",
        "import seaborn as sns\n",
        "import matplotlib.pyplot as plt\n",
        "from collections import Counter\n",
        "\n",
        "import nltk\n",
        "nltk.download('punkt')\n",
        "nltk.download('stopwords')\n",
        "from nltk.corpus import stopwords\n",
        "from nltk.stem import PorterStemmer, LancasterStemmer\n",
        "from nltk.tokenize import sent_tokenize, word_tokenize, RegexpTokenizer\n",
        "\n",
        "from sklearn.metrics import accuracy_score\n",
        "from sklearn.linear_model import LogisticRegression\n",
        "from sklearn.model_selection import train_test_split\n",
        "from sklearn.feature_extraction.text import CountVectorizer, TfidfVectorizer\n",
        "\n",
        "%matplotlib inline"
      ]
    },
    {
      "cell_type": "markdown",
      "id": "43ad37d3",
      "metadata": {
        "id": "43ad37d3"
      },
      "source": [
        "# Data Exploration"
      ]
    },
    {
      "cell_type": "code",
      "execution_count": 5,
      "id": "9d0ca337",
      "metadata": {
        "id": "9d0ca337"
      },
      "outputs": [],
      "source": [
        "#data = pd.read_excel(\"Input/Canva_reviews.xlsx\")\n",
        "data = pd.read_excel(\"Input/Canva_reviews.xlsx\")"
      ]
    },
    {
      "cell_type": "code",
      "execution_count": 6,
      "id": "153e1475",
      "metadata": {
        "colab": {
          "base_uri": "https://localhost:8080/"
        },
        "id": "153e1475",
        "outputId": "9c3400f4-3a9c-4a0f-a5ef-8b13a3c6c0ea"
      },
      "outputs": [
        {
          "output_type": "execute_result",
          "data": {
            "text/plain": [
              "(1500, 13)"
            ]
          },
          "metadata": {},
          "execution_count": 6
        }
      ],
      "source": [
        "data.shape"
      ]
    },
    {
      "cell_type": "code",
      "execution_count": 7,
      "id": "18927958",
      "metadata": {
        "colab": {
          "base_uri": "https://localhost:8080/",
          "height": 476
        },
        "id": "18927958",
        "outputId": "be0bf1c6-acd3-4921-cd64-971e8633fd9c"
      },
      "outputs": [
        {
          "output_type": "execute_result",
          "data": {
            "text/plain": [
              "                                            reviewId            userName  \\\n",
              "0  gp:AOqpTOFxf3fttcT5DSvFIn9KPp5FErgH9yC533Fmoxv...      Donna Caritero   \n",
              "1  gp:AOqpTOEq6rNIWLnPV4KFTctWvm0mpGEQljtD6mvy1H-...  Soumi Mukhopadhyay   \n",
              "2  gp:AOqpTOE86hSyPRHZgYt28Uk5zGe4FZGb1hkmtFDiYJ2...   Theknown _unknown   \n",
              "\n",
              "                                           userImage  \\\n",
              "0  https://play-lh.googleusercontent.com/a-/AOh14...   \n",
              "1  https://play-lh.googleusercontent.com/a-/AOh14...   \n",
              "2  https://play-lh.googleusercontent.com/a-/AOh14...   \n",
              "\n",
              "                                              review  score  thumbsUpCount  \\\n",
              "0  Overall it's really an amazing app. I've been ...      4            528   \n",
              "1  Hey! Yes I gave a 5 star rating... coz I belie...      5            351   \n",
              "2  Canva used to be a good app! But recently I've...      1            160   \n",
              "\n",
              "  reviewCreatedVersion                  at  \\\n",
              "0              2.116.0 2021-06-17 07:18:54   \n",
              "1              2.116.0 2021-06-17 19:18:28   \n",
              "2              2.116.0 2021-06-23 19:13:28   \n",
              "\n",
              "                                        replyContent           repliedAt  \\\n",
              "0  Hi Donna. We are sorry that your text or desig... 2021-06-19 21:24:32   \n",
              "1                                                NaN                 NaT   \n",
              "2  Hi there. We're sorry to hear that you are hav... 2021-06-26 20:20:56   \n",
              "\n",
              "  Sentiment              Sub Category    Sub Category_test  \n",
              "0  Negative                       NaN  bug_picture_quality  \n",
              "1  Positive           extremely_happy                  NaN  \n",
              "2  Negative  saving_downloading_issue     bug_saving_files  "
            ],
            "text/html": [
              "\n",
              "  <div id=\"df-6a0027a8-d682-48a6-9a95-455b0d7f47cd\" class=\"colab-df-container\">\n",
              "    <div>\n",
              "<style scoped>\n",
              "    .dataframe tbody tr th:only-of-type {\n",
              "        vertical-align: middle;\n",
              "    }\n",
              "\n",
              "    .dataframe tbody tr th {\n",
              "        vertical-align: top;\n",
              "    }\n",
              "\n",
              "    .dataframe thead th {\n",
              "        text-align: right;\n",
              "    }\n",
              "</style>\n",
              "<table border=\"1\" class=\"dataframe\">\n",
              "  <thead>\n",
              "    <tr style=\"text-align: right;\">\n",
              "      <th></th>\n",
              "      <th>reviewId</th>\n",
              "      <th>userName</th>\n",
              "      <th>userImage</th>\n",
              "      <th>review</th>\n",
              "      <th>score</th>\n",
              "      <th>thumbsUpCount</th>\n",
              "      <th>reviewCreatedVersion</th>\n",
              "      <th>at</th>\n",
              "      <th>replyContent</th>\n",
              "      <th>repliedAt</th>\n",
              "      <th>Sentiment</th>\n",
              "      <th>Sub Category</th>\n",
              "      <th>Sub Category_test</th>\n",
              "    </tr>\n",
              "  </thead>\n",
              "  <tbody>\n",
              "    <tr>\n",
              "      <th>0</th>\n",
              "      <td>gp:AOqpTOFxf3fttcT5DSvFIn9KPp5FErgH9yC533Fmoxv...</td>\n",
              "      <td>Donna Caritero</td>\n",
              "      <td>https://play-lh.googleusercontent.com/a-/AOh14...</td>\n",
              "      <td>Overall it's really an amazing app. I've been ...</td>\n",
              "      <td>4</td>\n",
              "      <td>528</td>\n",
              "      <td>2.116.0</td>\n",
              "      <td>2021-06-17 07:18:54</td>\n",
              "      <td>Hi Donna. We are sorry that your text or desig...</td>\n",
              "      <td>2021-06-19 21:24:32</td>\n",
              "      <td>Negative</td>\n",
              "      <td>NaN</td>\n",
              "      <td>bug_picture_quality</td>\n",
              "    </tr>\n",
              "    <tr>\n",
              "      <th>1</th>\n",
              "      <td>gp:AOqpTOEq6rNIWLnPV4KFTctWvm0mpGEQljtD6mvy1H-...</td>\n",
              "      <td>Soumi Mukhopadhyay</td>\n",
              "      <td>https://play-lh.googleusercontent.com/a-/AOh14...</td>\n",
              "      <td>Hey! Yes I gave a 5 star rating... coz I belie...</td>\n",
              "      <td>5</td>\n",
              "      <td>351</td>\n",
              "      <td>2.116.0</td>\n",
              "      <td>2021-06-17 19:18:28</td>\n",
              "      <td>NaN</td>\n",
              "      <td>NaT</td>\n",
              "      <td>Positive</td>\n",
              "      <td>extremely_happy</td>\n",
              "      <td>NaN</td>\n",
              "    </tr>\n",
              "    <tr>\n",
              "      <th>2</th>\n",
              "      <td>gp:AOqpTOE86hSyPRHZgYt28Uk5zGe4FZGb1hkmtFDiYJ2...</td>\n",
              "      <td>Theknown _unknown</td>\n",
              "      <td>https://play-lh.googleusercontent.com/a-/AOh14...</td>\n",
              "      <td>Canva used to be a good app! But recently I've...</td>\n",
              "      <td>1</td>\n",
              "      <td>160</td>\n",
              "      <td>2.116.0</td>\n",
              "      <td>2021-06-23 19:13:28</td>\n",
              "      <td>Hi there. We're sorry to hear that you are hav...</td>\n",
              "      <td>2021-06-26 20:20:56</td>\n",
              "      <td>Negative</td>\n",
              "      <td>saving_downloading_issue</td>\n",
              "      <td>bug_saving_files</td>\n",
              "    </tr>\n",
              "  </tbody>\n",
              "</table>\n",
              "</div>\n",
              "    <div class=\"colab-df-buttons\">\n",
              "\n",
              "  <div class=\"colab-df-container\">\n",
              "    <button class=\"colab-df-convert\" onclick=\"convertToInteractive('df-6a0027a8-d682-48a6-9a95-455b0d7f47cd')\"\n",
              "            title=\"Convert this dataframe to an interactive table.\"\n",
              "            style=\"display:none;\">\n",
              "\n",
              "  <svg xmlns=\"http://www.w3.org/2000/svg\" height=\"24px\" viewBox=\"0 -960 960 960\">\n",
              "    <path d=\"M120-120v-720h720v720H120Zm60-500h600v-160H180v160Zm220 220h160v-160H400v160Zm0 220h160v-160H400v160ZM180-400h160v-160H180v160Zm440 0h160v-160H620v160ZM180-180h160v-160H180v160Zm440 0h160v-160H620v160Z\"/>\n",
              "  </svg>\n",
              "    </button>\n",
              "\n",
              "  <style>\n",
              "    .colab-df-container {\n",
              "      display:flex;\n",
              "      gap: 12px;\n",
              "    }\n",
              "\n",
              "    .colab-df-convert {\n",
              "      background-color: #E8F0FE;\n",
              "      border: none;\n",
              "      border-radius: 50%;\n",
              "      cursor: pointer;\n",
              "      display: none;\n",
              "      fill: #1967D2;\n",
              "      height: 32px;\n",
              "      padding: 0 0 0 0;\n",
              "      width: 32px;\n",
              "    }\n",
              "\n",
              "    .colab-df-convert:hover {\n",
              "      background-color: #E2EBFA;\n",
              "      box-shadow: 0px 1px 2px rgba(60, 64, 67, 0.3), 0px 1px 3px 1px rgba(60, 64, 67, 0.15);\n",
              "      fill: #174EA6;\n",
              "    }\n",
              "\n",
              "    .colab-df-buttons div {\n",
              "      margin-bottom: 4px;\n",
              "    }\n",
              "\n",
              "    [theme=dark] .colab-df-convert {\n",
              "      background-color: #3B4455;\n",
              "      fill: #D2E3FC;\n",
              "    }\n",
              "\n",
              "    [theme=dark] .colab-df-convert:hover {\n",
              "      background-color: #434B5C;\n",
              "      box-shadow: 0px 1px 3px 1px rgba(0, 0, 0, 0.15);\n",
              "      filter: drop-shadow(0px 1px 2px rgba(0, 0, 0, 0.3));\n",
              "      fill: #FFFFFF;\n",
              "    }\n",
              "  </style>\n",
              "\n",
              "    <script>\n",
              "      const buttonEl =\n",
              "        document.querySelector('#df-6a0027a8-d682-48a6-9a95-455b0d7f47cd button.colab-df-convert');\n",
              "      buttonEl.style.display =\n",
              "        google.colab.kernel.accessAllowed ? 'block' : 'none';\n",
              "\n",
              "      async function convertToInteractive(key) {\n",
              "        const element = document.querySelector('#df-6a0027a8-d682-48a6-9a95-455b0d7f47cd');\n",
              "        const dataTable =\n",
              "          await google.colab.kernel.invokeFunction('convertToInteractive',\n",
              "                                                    [key], {});\n",
              "        if (!dataTable) return;\n",
              "\n",
              "        const docLinkHtml = 'Like what you see? Visit the ' +\n",
              "          '<a target=\"_blank\" href=https://colab.research.google.com/notebooks/data_table.ipynb>data table notebook</a>'\n",
              "          + ' to learn more about interactive tables.';\n",
              "        element.innerHTML = '';\n",
              "        dataTable['output_type'] = 'display_data';\n",
              "        await google.colab.output.renderOutput(dataTable, element);\n",
              "        const docLink = document.createElement('div');\n",
              "        docLink.innerHTML = docLinkHtml;\n",
              "        element.appendChild(docLink);\n",
              "      }\n",
              "    </script>\n",
              "  </div>\n",
              "\n",
              "\n",
              "<div id=\"df-fd1de781-f36a-475f-9215-c70e6f175cb7\">\n",
              "  <button class=\"colab-df-quickchart\" onclick=\"quickchart('df-fd1de781-f36a-475f-9215-c70e6f175cb7')\"\n",
              "            title=\"Suggest charts.\"\n",
              "            style=\"display:none;\">\n",
              "\n",
              "<svg xmlns=\"http://www.w3.org/2000/svg\" height=\"24px\"viewBox=\"0 0 24 24\"\n",
              "     width=\"24px\">\n",
              "    <g>\n",
              "        <path d=\"M19 3H5c-1.1 0-2 .9-2 2v14c0 1.1.9 2 2 2h14c1.1 0 2-.9 2-2V5c0-1.1-.9-2-2-2zM9 17H7v-7h2v7zm4 0h-2V7h2v10zm4 0h-2v-4h2v4z\"/>\n",
              "    </g>\n",
              "</svg>\n",
              "  </button>\n",
              "\n",
              "<style>\n",
              "  .colab-df-quickchart {\n",
              "      --bg-color: #E8F0FE;\n",
              "      --fill-color: #1967D2;\n",
              "      --hover-bg-color: #E2EBFA;\n",
              "      --hover-fill-color: #174EA6;\n",
              "      --disabled-fill-color: #AAA;\n",
              "      --disabled-bg-color: #DDD;\n",
              "  }\n",
              "\n",
              "  [theme=dark] .colab-df-quickchart {\n",
              "      --bg-color: #3B4455;\n",
              "      --fill-color: #D2E3FC;\n",
              "      --hover-bg-color: #434B5C;\n",
              "      --hover-fill-color: #FFFFFF;\n",
              "      --disabled-bg-color: #3B4455;\n",
              "      --disabled-fill-color: #666;\n",
              "  }\n",
              "\n",
              "  .colab-df-quickchart {\n",
              "    background-color: var(--bg-color);\n",
              "    border: none;\n",
              "    border-radius: 50%;\n",
              "    cursor: pointer;\n",
              "    display: none;\n",
              "    fill: var(--fill-color);\n",
              "    height: 32px;\n",
              "    padding: 0;\n",
              "    width: 32px;\n",
              "  }\n",
              "\n",
              "  .colab-df-quickchart:hover {\n",
              "    background-color: var(--hover-bg-color);\n",
              "    box-shadow: 0 1px 2px rgba(60, 64, 67, 0.3), 0 1px 3px 1px rgba(60, 64, 67, 0.15);\n",
              "    fill: var(--button-hover-fill-color);\n",
              "  }\n",
              "\n",
              "  .colab-df-quickchart-complete:disabled,\n",
              "  .colab-df-quickchart-complete:disabled:hover {\n",
              "    background-color: var(--disabled-bg-color);\n",
              "    fill: var(--disabled-fill-color);\n",
              "    box-shadow: none;\n",
              "  }\n",
              "\n",
              "  .colab-df-spinner {\n",
              "    border: 2px solid var(--fill-color);\n",
              "    border-color: transparent;\n",
              "    border-bottom-color: var(--fill-color);\n",
              "    animation:\n",
              "      spin 1s steps(1) infinite;\n",
              "  }\n",
              "\n",
              "  @keyframes spin {\n",
              "    0% {\n",
              "      border-color: transparent;\n",
              "      border-bottom-color: var(--fill-color);\n",
              "      border-left-color: var(--fill-color);\n",
              "    }\n",
              "    20% {\n",
              "      border-color: transparent;\n",
              "      border-left-color: var(--fill-color);\n",
              "      border-top-color: var(--fill-color);\n",
              "    }\n",
              "    30% {\n",
              "      border-color: transparent;\n",
              "      border-left-color: var(--fill-color);\n",
              "      border-top-color: var(--fill-color);\n",
              "      border-right-color: var(--fill-color);\n",
              "    }\n",
              "    40% {\n",
              "      border-color: transparent;\n",
              "      border-right-color: var(--fill-color);\n",
              "      border-top-color: var(--fill-color);\n",
              "    }\n",
              "    60% {\n",
              "      border-color: transparent;\n",
              "      border-right-color: var(--fill-color);\n",
              "    }\n",
              "    80% {\n",
              "      border-color: transparent;\n",
              "      border-right-color: var(--fill-color);\n",
              "      border-bottom-color: var(--fill-color);\n",
              "    }\n",
              "    90% {\n",
              "      border-color: transparent;\n",
              "      border-bottom-color: var(--fill-color);\n",
              "    }\n",
              "  }\n",
              "</style>\n",
              "\n",
              "  <script>\n",
              "    async function quickchart(key) {\n",
              "      const quickchartButtonEl =\n",
              "        document.querySelector('#' + key + ' button');\n",
              "      quickchartButtonEl.disabled = true;  // To prevent multiple clicks.\n",
              "      quickchartButtonEl.classList.add('colab-df-spinner');\n",
              "      try {\n",
              "        const charts = await google.colab.kernel.invokeFunction(\n",
              "            'suggestCharts', [key], {});\n",
              "      } catch (error) {\n",
              "        console.error('Error during call to suggestCharts:', error);\n",
              "      }\n",
              "      quickchartButtonEl.classList.remove('colab-df-spinner');\n",
              "      quickchartButtonEl.classList.add('colab-df-quickchart-complete');\n",
              "    }\n",
              "    (() => {\n",
              "      let quickchartButtonEl =\n",
              "        document.querySelector('#df-fd1de781-f36a-475f-9215-c70e6f175cb7 button');\n",
              "      quickchartButtonEl.style.display =\n",
              "        google.colab.kernel.accessAllowed ? 'block' : 'none';\n",
              "    })();\n",
              "  </script>\n",
              "</div>\n",
              "    </div>\n",
              "  </div>\n"
            ]
          },
          "metadata": {},
          "execution_count": 7
        }
      ],
      "source": [
        "data.head(3)"
      ]
    },
    {
      "cell_type": "code",
      "execution_count": 8,
      "id": "4118117c",
      "metadata": {
        "colab": {
          "base_uri": "https://localhost:8080/",
          "height": 36
        },
        "id": "4118117c",
        "outputId": "312f8027-86ff-4152-d0a1-0f54a4d19e8d"
      },
      "outputs": [
        {
          "output_type": "execute_result",
          "data": {
            "text/plain": [
              "'Unable to save my work. Nothing works :('"
            ],
            "application/vnd.google.colaboratory.intrinsic+json": {
              "type": "string"
            }
          },
          "metadata": {},
          "execution_count": 8
        }
      ],
      "source": [
        "data.loc[13, \"review\"]"
      ]
    },
    {
      "cell_type": "code",
      "execution_count": 9,
      "id": "a6441791",
      "metadata": {
        "colab": {
          "base_uri": "https://localhost:8080/",
          "height": 36
        },
        "id": "a6441791",
        "outputId": "9b1e6733-7335-4e02-9737-d357444d71c9"
      },
      "outputs": [
        {
          "output_type": "execute_result",
          "data": {
            "text/plain": [
              "'Negative'"
            ],
            "application/vnd.google.colaboratory.intrinsic+json": {
              "type": "string"
            }
          },
          "metadata": {},
          "execution_count": 9
        }
      ],
      "source": [
        "data.loc[13, \"Sentiment\"]"
      ]
    },
    {
      "cell_type": "code",
      "execution_count": 10,
      "id": "f7f74c71",
      "metadata": {
        "colab": {
          "base_uri": "https://localhost:8080/",
          "height": 36
        },
        "id": "f7f74c71",
        "outputId": "6e490d64-a7b0-4359-b07a-416431bba7b3"
      },
      "outputs": [
        {
          "output_type": "execute_result",
          "data": {
            "text/plain": [
              "'Absolutely amazing and a lifesaver for teachers.'"
            ],
            "application/vnd.google.colaboratory.intrinsic+json": {
              "type": "string"
            }
          },
          "metadata": {},
          "execution_count": 10
        }
      ],
      "source": [
        "data.loc[1495, \"review\"]"
      ]
    },
    {
      "cell_type": "code",
      "execution_count": 11,
      "id": "aa0ad067",
      "metadata": {
        "colab": {
          "base_uri": "https://localhost:8080/",
          "height": 36
        },
        "id": "aa0ad067",
        "outputId": "fd5affb1-6066-470b-d17b-0065428f8dc1"
      },
      "outputs": [
        {
          "output_type": "execute_result",
          "data": {
            "text/plain": [
              "'Positive'"
            ],
            "application/vnd.google.colaboratory.intrinsic+json": {
              "type": "string"
            }
          },
          "metadata": {},
          "execution_count": 11
        }
      ],
      "source": [
        "data.loc[1495, \"Sentiment\"]"
      ]
    },
    {
      "cell_type": "markdown",
      "id": "137fce58",
      "metadata": {
        "id": "137fce58"
      },
      "source": [
        "### Bar plot of 'Sentiment'"
      ]
    },
    {
      "cell_type": "code",
      "execution_count": 17,
      "id": "769c9054",
      "metadata": {
        "colab": {
          "base_uri": "https://localhost:8080/",
          "height": 449
        },
        "id": "769c9054",
        "outputId": "bf38a9c7-9555-49db-aac5-c35a58f3ca7e"
      },
      "outputs": [
        {
          "output_type": "display_data",
          "data": {
            "text/plain": [
              "<Figure size 640x480 with 1 Axes>"
            ],
            "image/png": "[encoded data removed]"
          },
          "metadata": {}
        }
      ],
      "source": [
        "'''sns.countplot(x=\"Sentiment\", data=data)\n",
        "plt.show()\n",
        "'''\n",
        "sns.countplot(x='Sentiment', data=data)\n",
        "plt.show()"
      ]
    },
    {
      "cell_type": "code",
      "execution_count": 13,
      "id": "c4b8daf7",
      "metadata": {
        "colab": {
          "base_uri": "https://localhost:8080/"
        },
        "id": "c4b8daf7",
        "outputId": "e501771d-0f7f-4f6f-dcc2-81fe650a8720"
      },
      "outputs": [
        {
          "output_type": "execute_result",
          "data": {
            "text/plain": [
              "Positive    1032\n",
              "Negative     468\n",
              "Name: Sentiment, dtype: int64"
            ]
          },
          "metadata": {},
          "execution_count": 13
        }
      ],
      "source": [
        "data[\"Sentiment\"].value_counts()"
      ]
    },
    {
      "cell_type": "code",
      "execution_count": 14,
      "id": "83751fa9",
      "metadata": {
        "colab": {
          "base_uri": "https://localhost:8080/"
        },
        "id": "83751fa9",
        "outputId": "dcdfccab-15a0-4825-edca-d7e7b1fe48eb"
      },
      "outputs": [
        {
          "output_type": "execute_result",
          "data": {
            "text/plain": [
              "0.312"
            ]
          },
          "metadata": {},
          "execution_count": 14
        }
      ],
      "source": [
        "468/(1032+468)"
      ]
    },
    {
      "cell_type": "markdown",
      "id": "557fac2e",
      "metadata": {
        "id": "557fac2e"
      },
      "source": [
        "### Bar plot of 'score'"
      ]
    },
    {
      "cell_type": "code",
      "execution_count": 15,
      "id": "db0b4296",
      "metadata": {
        "colab": {
          "base_uri": "https://localhost:8080/",
          "height": 449
        },
        "id": "db0b4296",
        "outputId": "ba454c9e-9bdf-4cb7-d5d3-485d07f6f21b"
      },
      "outputs": [
        {
          "output_type": "display_data",
          "data": {
            "text/plain": [
              "<Figure size 640x480 with 1 Axes>"
            ],
            "image/png": "[encoded data removed]"
          },
          "metadata": {}
        }
      ],
      "source": [
        "sns.countplot(x=\"score\", data=data)\n",
        "plt.show()"
      ]
    },
    {
      "cell_type": "markdown",
      "id": "5ebb4a21",
      "metadata": {
        "id": "5ebb4a21"
      },
      "source": [
        "### Check relationship between 'score' and 'Sentiment'"
      ]
    },
    {
      "cell_type": "code",
      "execution_count": null,
      "id": "3f261add",
      "metadata": {
        "id": "3f261add",
        "outputId": "6738914a-e641-4f3d-e896-c79df8644f9a"
      },
      "outputs": [
        {
          "data": {
            "image/png": "[encoded data removed]",
            "text/plain": [
              "<Figure size 432x288 with 1 Axes>"
            ]
          },
          "metadata": {
            "needs_background": "light"
          },
          "output_type": "display_data"
        }
      ],
      "source": [
        "sns.countplot(x=\"score\", data=data, hue=\"Sentiment\")\n",
        "plt.show()"
      ]
    },
    {
      "cell_type": "markdown",
      "id": "fd824dff",
      "metadata": {
        "id": "fd824dff"
      },
      "source": [
        "### Find the length of each 'review'"
      ]
    },
    {
      "cell_type": "code",
      "execution_count": 18,
      "id": "e26ea0c5",
      "metadata": {
        "id": "e26ea0c5"
      },
      "outputs": [],
      "source": [
        "# data[\"len\"] = data[\"review\"].apply(len)\n",
        "data[\"len\"] = data[\"review\"].apply(len)"
      ]
    },
    {
      "cell_type": "code",
      "execution_count": 19,
      "id": "aacea977",
      "metadata": {
        "colab": {
          "base_uri": "https://localhost:8080/"
        },
        "id": "aacea977",
        "outputId": "822ce5d8-2b27-474e-b18c-8b5adc7ea85d"
      },
      "outputs": [
        {
          "output_type": "execute_result",
          "data": {
            "text/plain": [
              "count    1500.000000\n",
              "mean       86.468667\n",
              "std        55.681355\n",
              "min        20.000000\n",
              "25%        54.000000\n",
              "50%        75.000000\n",
              "75%       102.000000\n",
              "max       498.000000\n",
              "Name: len, dtype: float64"
            ]
          },
          "metadata": {},
          "execution_count": 19
        }
      ],
      "source": [
        "data[\"len\"].describe()"
      ]
    },
    {
      "cell_type": "markdown",
      "id": "1eea40cd",
      "metadata": {
        "id": "1eea40cd"
      },
      "source": [
        "### Plot the histogram of 'len'"
      ]
    },
    {
      "cell_type": "code",
      "execution_count": 27,
      "id": "fdc54f54",
      "metadata": {
        "colab": {
          "base_uri": "https://localhost:8080/",
          "height": 506
        },
        "id": "fdc54f54",
        "outputId": "5f633517-cb2a-4f07-9436-1478127ef57d"
      },
      "outputs": [
        {
          "output_type": "display_data",
          "data": {
            "text/plain": [
              "<Figure size 500x500 with 1 Axes>"
            ],
            "image/png": "[encoded data removed]"
          },
          "metadata": {}
        }
      ],
      "source": [
        "sns.displot(data[\"len\"])\n",
        "plt.show()"
      ]
    },
    {
      "cell_type": "markdown",
      "id": "6f035532",
      "metadata": {
        "id": "6f035532"
      },
      "source": [
        "### Plot the distribution of 'len' for different 'Sentiment' types"
      ]
    },
    {
      "cell_type": "code",
      "execution_count": 31,
      "id": "5d6534e9",
      "metadata": {
        "colab": {
          "base_uri": "https://localhost:8080/",
          "height": 506
        },
        "id": "5d6534e9",
        "outputId": "03b3ffdf-1b40-4c8c-ce25-b9d52ab2b1cc"
      },
      "outputs": [
        {
          "output_type": "display_data",
          "data": {
            "text/plain": [
              "<Figure size 612.5x500 with 1 Axes>"
            ],
            "image/png": "[encoded data removed]"
          },
          "metadata": {}
        }
      ],
      "source": [
        "sns.displot(data=data, x=\"len\", hue=\"Sentiment\", kind=\"kde\", fill=True)\n",
        "plt.show()"
      ]
    },
    {
      "cell_type": "markdown",
      "id": "a93fea6c",
      "metadata": {
        "id": "a93fea6c"
      },
      "source": [
        "# Tokenization"
      ]
    },
    {
      "cell_type": "code",
      "execution_count": 32,
      "id": "76df278e",
      "metadata": {
        "id": "76df278e"
      },
      "outputs": [],
      "source": [
        "data = data[[\"review\", \"Sentiment\"]]"
      ]
    },
    {
      "cell_type": "code",
      "execution_count": 33,
      "id": "66800c47",
      "metadata": {
        "colab": {
          "base_uri": "https://localhost:8080/",
          "height": 36
        },
        "id": "66800c47",
        "outputId": "d05add2f-9be7-4fc3-f92e-b5858c67b423"
      },
      "outputs": [
        {
          "output_type": "execute_result",
          "data": {
            "text/plain": [
              "'Unable to save my work. Nothing works :('"
            ],
            "application/vnd.google.colaboratory.intrinsic+json": {
              "type": "string"
            }
          },
          "metadata": {},
          "execution_count": 33
        }
      ],
      "source": [
        "data.loc[13, \"review\"]"
      ]
    },
    {
      "cell_type": "code",
      "execution_count": 36,
      "id": "1dd5b42c",
      "metadata": {
        "colab": {
          "base_uri": "https://localhost:8080/"
        },
        "id": "1dd5b42c",
        "outputId": "9d987326-0e34-4492-e855-563b914dd4e5"
      },
      "outputs": [
        {
          "output_type": "execute_result",
          "data": {
            "text/plain": [
              "['Unable to save my work.', 'Nothing works :(']"
            ]
          },
          "metadata": {},
          "execution_count": 36
        }
      ],
      "source": [
        "sent_tokenize(data.loc[13,\"review\"])"
      ]
    },
    {
      "cell_type": "code",
      "execution_count": 37,
      "id": "38b9730d",
      "metadata": {
        "colab": {
          "base_uri": "https://localhost:8080/",
          "height": 36
        },
        "id": "38b9730d",
        "outputId": "2653616a-d5e9-4490-fe89-a9edf613cf22"
      },
      "outputs": [
        {
          "output_type": "execute_result",
          "data": {
            "text/plain": [
              "'Absolutely amazing and a lifesaver for teachers.'"
            ],
            "application/vnd.google.colaboratory.intrinsic+json": {
              "type": "string"
            }
          },
          "metadata": {},
          "execution_count": 37
        }
      ],
      "source": [
        "data.loc[1495, \"review\"]"
      ]
    },
    {
      "cell_type": "code",
      "execution_count": 38,
      "id": "efcc8bcd",
      "metadata": {
        "colab": {
          "base_uri": "https://localhost:8080/"
        },
        "id": "efcc8bcd",
        "outputId": "257ff76d-2b6b-49b8-bab4-8a79f0a19b56"
      },
      "outputs": [
        {
          "output_type": "execute_result",
          "data": {
            "text/plain": [
              "['Absolutely amazing and a lifesaver for teachers.']"
            ]
          },
          "metadata": {},
          "execution_count": 38
        }
      ],
      "source": [
        "sent_tokenize(data.loc[1495, \"review\"])"
      ]
    },
    {
      "cell_type": "code",
      "execution_count": 39,
      "id": "b04e56de",
      "metadata": {
        "colab": {
          "base_uri": "https://localhost:8080/"
        },
        "id": "b04e56de",
        "outputId": "98a6e490-9bbd-41c0-9a03-34942e5f4f10"
      },
      "outputs": [
        {
          "output_type": "execute_result",
          "data": {
            "text/plain": [
              "['Unable', 'to', 'save', 'my', 'work', '.', 'Nothing', 'works', ':', '(']"
            ]
          },
          "metadata": {},
          "execution_count": 39
        }
      ],
      "source": [
        "word_tokenize(data.loc[13, \"review\"])"
      ]
    },
    {
      "cell_type": "code",
      "execution_count": 40,
      "id": "4e206c64",
      "metadata": {
        "colab": {
          "base_uri": "https://localhost:8080/"
        },
        "id": "4e206c64",
        "outputId": "278393bb-030e-4db4-a434-d40b681ed66a"
      },
      "outputs": [
        {
          "output_type": "execute_result",
          "data": {
            "text/plain": [
              "['Absolutely', 'amazing', 'and', 'a', 'lifesaver', 'for', 'teachers', '.']"
            ]
          },
          "metadata": {},
          "execution_count": 40
        }
      ],
      "source": [
        "word_tokenize(data.loc[1495, \"review\"])"
      ]
    },
    {
      "cell_type": "markdown",
      "id": "fa40a238",
      "metadata": {
        "id": "fa40a238"
      },
      "source": [
        "### Convert text to lower case"
      ]
    },
    {
      "cell_type": "code",
      "execution_count": 41,
      "id": "42856681",
      "metadata": {
        "id": "42856681"
      },
      "outputs": [],
      "source": [
        "reviews = list(data[\"review\"])"
      ]
    },
    {
      "cell_type": "code",
      "execution_count": 42,
      "id": "7976bf10",
      "metadata": {
        "colab": {
          "base_uri": "https://localhost:8080/"
        },
        "id": "7976bf10",
        "outputId": "c9b2de27-3d7c-44f7-c8a8-33fbc5c72b09"
      },
      "outputs": [
        {
          "output_type": "execute_result",
          "data": {
            "text/plain": [
              "1500"
            ]
          },
          "metadata": {},
          "execution_count": 42
        }
      ],
      "source": [
        "len(reviews)"
      ]
    },
    {
      "cell_type": "code",
      "execution_count": 43,
      "id": "f6d9f036",
      "metadata": {
        "colab": {
          "base_uri": "https://localhost:8080/",
          "height": 36
        },
        "id": "f6d9f036",
        "outputId": "e4b53aff-d46e-4289-bb0d-24415e4c20fb"
      },
      "outputs": [
        {
          "output_type": "execute_result",
          "data": {
            "text/plain": [
              "'Unable to save my work. Nothing works :('"
            ],
            "application/vnd.google.colaboratory.intrinsic+json": {
              "type": "string"
            }
          },
          "metadata": {},
          "execution_count": 43
        }
      ],
      "source": [
        "reviews[13]"
      ]
    },
    {
      "cell_type": "code",
      "execution_count": 44,
      "id": "e4d6f736",
      "metadata": {
        "colab": {
          "base_uri": "https://localhost:8080/",
          "height": 36
        },
        "id": "e4d6f736",
        "outputId": "883ce4c8-6d3f-472d-84d2-4fbded67174d"
      },
      "outputs": [
        {
          "output_type": "execute_result",
          "data": {
            "text/plain": [
              "'Absolutely amazing and a lifesaver for teachers.'"
            ],
            "application/vnd.google.colaboratory.intrinsic+json": {
              "type": "string"
            }
          },
          "metadata": {},
          "execution_count": 44
        }
      ],
      "source": [
        "reviews[1495]"
      ]
    },
    {
      "cell_type": "code",
      "execution_count": 45,
      "id": "48114468",
      "metadata": {
        "colab": {
          "base_uri": "https://localhost:8080/",
          "height": 36
        },
        "id": "48114468",
        "outputId": "f64d5858-6388-4304-b27d-71ebe47dcde8"
      },
      "outputs": [
        {
          "output_type": "execute_result",
          "data": {
            "text/plain": [
              "'absolutely amazing and a lifesaver for teachers.'"
            ],
            "application/vnd.google.colaboratory.intrinsic+json": {
              "type": "string"
            }
          },
          "metadata": {},
          "execution_count": 45
        }
      ],
      "source": [
        "reviews[1495].lower()"
      ]
    },
    {
      "cell_type": "code",
      "execution_count": 46,
      "id": "63568983",
      "metadata": {
        "id": "63568983"
      },
      "outputs": [],
      "source": [
        "reviews_lower = [r.lower() for r in reviews]"
      ]
    },
    {
      "cell_type": "code",
      "execution_count": 47,
      "id": "88b291e8",
      "metadata": {
        "colab": {
          "base_uri": "https://localhost:8080/",
          "height": 36
        },
        "id": "88b291e8",
        "outputId": "6831c9a1-bd29-4927-e969-a7f57101726b"
      },
      "outputs": [
        {
          "output_type": "execute_result",
          "data": {
            "text/plain": [
              "'unable to save my work. nothing works :('"
            ],
            "application/vnd.google.colaboratory.intrinsic+json": {
              "type": "string"
            }
          },
          "metadata": {},
          "execution_count": 47
        }
      ],
      "source": [
        "reviews_lower[13]"
      ]
    },
    {
      "cell_type": "code",
      "execution_count": 48,
      "id": "6098e882",
      "metadata": {
        "id": "6098e882"
      },
      "outputs": [],
      "source": [
        "reviews_lower = []\n",
        "for r in reviews:\n",
        "    reviews_lower.append(r.lower())"
      ]
    },
    {
      "cell_type": "code",
      "execution_count": 49,
      "id": "db39498c",
      "metadata": {
        "id": "db39498c"
      },
      "outputs": [],
      "source": [
        "tokens = [word_tokenize(r) for r in reviews_lower]"
      ]
    },
    {
      "cell_type": "code",
      "execution_count": 50,
      "id": "c44025a5",
      "metadata": {
        "colab": {
          "base_uri": "https://localhost:8080/"
        },
        "id": "c44025a5",
        "outputId": "d8c906da-b23d-454a-bcd9-9678bf72f3e2"
      },
      "outputs": [
        {
          "output_type": "execute_result",
          "data": {
            "text/plain": [
              "['unable', 'to', 'save', 'my', 'work', '.', 'nothing', 'works', ':', '(']"
            ]
          },
          "metadata": {},
          "execution_count": 50
        }
      ],
      "source": [
        "tokens[13]"
      ]
    },
    {
      "cell_type": "code",
      "execution_count": 51,
      "id": "c17c6bfe",
      "metadata": {
        "colab": {
          "base_uri": "https://localhost:8080/"
        },
        "id": "c17c6bfe",
        "outputId": "c84f032c-d536-4995-92ff-1b7192cb83ac"
      },
      "outputs": [
        {
          "output_type": "execute_result",
          "data": {
            "text/plain": [
              "['absolutely', 'amazing', 'and', 'a', 'lifesaver', 'for', 'teachers', '.']"
            ]
          },
          "metadata": {},
          "execution_count": 51
        }
      ],
      "source": [
        "tokens[1495]"
      ]
    },
    {
      "cell_type": "code",
      "execution_count": 52,
      "id": "6f747736",
      "metadata": {
        "colab": {
          "base_uri": "https://localhost:8080/"
        },
        "id": "6f747736",
        "outputId": "aa281a2a-5fb0-4119-eee3-792e77aa24eb"
      },
      "outputs": [
        {
          "output_type": "execute_result",
          "data": {
            "text/plain": [
              "1500"
            ]
          },
          "metadata": {},
          "execution_count": 52
        }
      ],
      "source": [
        "len(tokens)"
      ]
    },
    {
      "cell_type": "markdown",
      "id": "da647ba5",
      "metadata": {
        "id": "da647ba5"
      },
      "source": [
        "# Stopwords removal"
      ]
    },
    {
      "cell_type": "code",
      "execution_count": 55,
      "id": "5366689a",
      "metadata": {
        "id": "5366689a"
      },
      "outputs": [],
      "source": [
        "sw = stopwords.words('english')"
      ]
    },
    {
      "cell_type": "code",
      "execution_count": 56,
      "id": "7b696f93",
      "metadata": {
        "colab": {
          "base_uri": "https://localhost:8080/"
        },
        "id": "7b696f93",
        "outputId": "f9e86dcc-f9d3-4202-e672-4bf788596d12"
      },
      "outputs": [
        {
          "output_type": "execute_result",
          "data": {
            "text/plain": [
              "['i', 'me', 'my', 'myself', 'we', 'our', 'ours', 'ourselves', 'you', \"you're\"]"
            ]
          },
          "metadata": {},
          "execution_count": 56
        }
      ],
      "source": [
        "sw[:10]"
      ]
    },
    {
      "cell_type": "code",
      "execution_count": 57,
      "id": "e65a3a01",
      "metadata": {
        "id": "e65a3a01"
      },
      "outputs": [],
      "source": [
        "tokens = [[word for word in t if word not in sw] for t in tokens]"
      ]
    },
    {
      "cell_type": "code",
      "execution_count": 58,
      "id": "fdf1f198",
      "metadata": {
        "colab": {
          "base_uri": "https://localhost:8080/"
        },
        "id": "fdf1f198",
        "outputId": "9ba89580-2c7a-4745-eb49-52ac5f3f2adc"
      },
      "outputs": [
        {
          "output_type": "execute_result",
          "data": {
            "text/plain": [
              "['unable', 'save', 'work', '.', 'nothing', 'works', ':', '(']"
            ]
          },
          "metadata": {},
          "execution_count": 58
        }
      ],
      "source": [
        "tokens[13]"
      ]
    },
    {
      "cell_type": "code",
      "execution_count": 59,
      "id": "87bd4391",
      "metadata": {
        "colab": {
          "base_uri": "https://localhost:8080/",
          "height": 36
        },
        "id": "87bd4391",
        "outputId": "2a46d0d2-e0d7-4dfc-d6b2-e46fae61ee76"
      },
      "outputs": [
        {
          "output_type": "execute_result",
          "data": {
            "text/plain": [
              "'Unable to save my work. Nothing works :('"
            ],
            "application/vnd.google.colaboratory.intrinsic+json": {
              "type": "string"
            }
          },
          "metadata": {},
          "execution_count": 59
        }
      ],
      "source": [
        "reviews[13]"
      ]
    },
    {
      "cell_type": "code",
      "execution_count": 60,
      "id": "900c6ada",
      "metadata": {
        "colab": {
          "base_uri": "https://localhost:8080/"
        },
        "id": "900c6ada",
        "outputId": "1689c464-d0aa-4c6d-9e08-d49760decd49"
      },
      "outputs": [
        {
          "output_type": "execute_result",
          "data": {
            "text/plain": [
              "['absolutely', 'amazing', 'lifesaver', 'teachers', '.']"
            ]
          },
          "metadata": {},
          "execution_count": 60
        }
      ],
      "source": [
        "tokens[1495]"
      ]
    },
    {
      "cell_type": "code",
      "execution_count": 61,
      "id": "efdf8a3f",
      "metadata": {
        "colab": {
          "base_uri": "https://localhost:8080/",
          "height": 36
        },
        "id": "efdf8a3f",
        "outputId": "2c124d0a-4fbe-477e-ff6e-b4272e1e7e20"
      },
      "outputs": [
        {
          "output_type": "execute_result",
          "data": {
            "text/plain": [
              "'Absolutely amazing and a lifesaver for teachers.'"
            ],
            "application/vnd.google.colaboratory.intrinsic+json": {
              "type": "string"
            }
          },
          "metadata": {},
          "execution_count": 61
        }
      ],
      "source": [
        "reviews[1495]"
      ]
    },
    {
      "cell_type": "markdown",
      "id": "fa218c91",
      "metadata": {
        "id": "fa218c91"
      },
      "source": [
        "### Remove punctuations"
      ]
    },
    {
      "cell_type": "code",
      "execution_count": 62,
      "id": "c8ca9513",
      "metadata": {
        "id": "c8ca9513"
      },
      "outputs": [],
      "source": [
        "tokenizer = RegexpTokenizer(r'\\w+')"
      ]
    },
    {
      "cell_type": "code",
      "execution_count": 63,
      "id": "f5549185",
      "metadata": {
        "colab": {
          "base_uri": "https://localhost:8080/"
        },
        "id": "f5549185",
        "outputId": "9a924671-77e8-4c50-b38b-8efce372df12"
      },
      "outputs": [
        {
          "output_type": "execute_result",
          "data": {
            "text/plain": [
              "['wasn', 't']"
            ]
          },
          "metadata": {},
          "execution_count": 63
        }
      ],
      "source": [
        "tokenizer.tokenize(\"wasn't\")"
      ]
    },
    {
      "cell_type": "code",
      "execution_count": 64,
      "id": "fe82a0fb",
      "metadata": {
        "id": "fe82a0fb"
      },
      "outputs": [],
      "source": [
        "t = tokenizer.tokenize(\"wasn't\")"
      ]
    },
    {
      "cell_type": "code",
      "execution_count": 65,
      "id": "44054633",
      "metadata": {
        "colab": {
          "base_uri": "https://localhost:8080/",
          "height": 36
        },
        "id": "44054633",
        "outputId": "578e6e40-19ae-49c2-e586-2b2eb40048a6"
      },
      "outputs": [
        {
          "output_type": "execute_result",
          "data": {
            "text/plain": [
              "'wasnt'"
            ],
            "application/vnd.google.colaboratory.intrinsic+json": {
              "type": "string"
            }
          },
          "metadata": {},
          "execution_count": 65
        }
      ],
      "source": [
        "\"\".join(t)"
      ]
    },
    {
      "cell_type": "code",
      "execution_count": 66,
      "id": "0ca9de16",
      "metadata": {
        "colab": {
          "base_uri": "https://localhost:8080/"
        },
        "id": "0ca9de16",
        "outputId": "91b1f386-d0d3-4d1d-d9d1-9447daa127d5"
      },
      "outputs": [
        {
          "output_type": "execute_result",
          "data": {
            "text/plain": [
              "[]"
            ]
          },
          "metadata": {},
          "execution_count": 66
        }
      ],
      "source": [
        "tokenizer.tokenize(\":\")"
      ]
    },
    {
      "cell_type": "code",
      "execution_count": 67,
      "id": "9019d2de",
      "metadata": {
        "id": "9019d2de"
      },
      "outputs": [],
      "source": [
        "tokens = [[\"\".join(tokenizer.tokenize(word)) for word in t\n",
        "           if len(tokenizer.tokenize(word))>0] for t in tokens]"
      ]
    },
    {
      "cell_type": "code",
      "execution_count": 68,
      "id": "e4af0982",
      "metadata": {
        "colab": {
          "base_uri": "https://localhost:8080/"
        },
        "id": "e4af0982",
        "outputId": "9ff0a0ea-3686-4430-d6eb-1fee9b632949"
      },
      "outputs": [
        {
          "output_type": "execute_result",
          "data": {
            "text/plain": [
              "['unable', 'save', 'work', 'nothing', 'works']"
            ]
          },
          "metadata": {},
          "execution_count": 68
        }
      ],
      "source": [
        "tokens[13]"
      ]
    },
    {
      "cell_type": "code",
      "execution_count": 69,
      "id": "2a3c0165",
      "metadata": {
        "colab": {
          "base_uri": "https://localhost:8080/",
          "height": 36
        },
        "id": "2a3c0165",
        "outputId": "16d9d792-58ca-4e2e-d60f-d21fa24339c0"
      },
      "outputs": [
        {
          "output_type": "execute_result",
          "data": {
            "text/plain": [
              "'Unable to save my work. Nothing works :('"
            ],
            "application/vnd.google.colaboratory.intrinsic+json": {
              "type": "string"
            }
          },
          "metadata": {},
          "execution_count": 69
        }
      ],
      "source": [
        "reviews[13]"
      ]
    },
    {
      "cell_type": "code",
      "execution_count": 70,
      "id": "bf2faa21",
      "metadata": {
        "colab": {
          "base_uri": "https://localhost:8080/"
        },
        "id": "bf2faa21",
        "outputId": "72dc41cd-388d-4111-89fb-af620cebba77"
      },
      "outputs": [
        {
          "output_type": "execute_result",
          "data": {
            "text/plain": [
              "['absolutely', 'amazing', 'lifesaver', 'teachers']"
            ]
          },
          "metadata": {},
          "execution_count": 70
        }
      ],
      "source": [
        "tokens[1495]"
      ]
    },
    {
      "cell_type": "code",
      "execution_count": 71,
      "id": "37b56f5b",
      "metadata": {
        "colab": {
          "base_uri": "https://localhost:8080/",
          "height": 36
        },
        "id": "37b56f5b",
        "outputId": "28806ae5-8233-42ea-d204-f9a48ebc1a32"
      },
      "outputs": [
        {
          "output_type": "execute_result",
          "data": {
            "text/plain": [
              "'Absolutely amazing and a lifesaver for teachers.'"
            ],
            "application/vnd.google.colaboratory.intrinsic+json": {
              "type": "string"
            }
          },
          "metadata": {},
          "execution_count": 71
        }
      ],
      "source": [
        "reviews[1495]"
      ]
    },
    {
      "cell_type": "markdown",
      "id": "ad288a6d",
      "metadata": {
        "id": "ad288a6d"
      },
      "source": [
        "# Stemming"
      ]
    },
    {
      "cell_type": "code",
      "execution_count": 72,
      "id": "4aeea363",
      "metadata": {
        "id": "4aeea363"
      },
      "outputs": [],
      "source": [
        "porter = PorterStemmer()\n",
        "lancaster = LancasterStemmer()"
      ]
    },
    {
      "cell_type": "code",
      "execution_count": 73,
      "id": "f524b5a7",
      "metadata": {
        "colab": {
          "base_uri": "https://localhost:8080/",
          "height": 36
        },
        "id": "f524b5a7",
        "outputId": "75f6995a-2f59-4a7a-9005-cc0c0ea00035"
      },
      "outputs": [
        {
          "output_type": "execute_result",
          "data": {
            "text/plain": [
              "'teacher'"
            ],
            "application/vnd.google.colaboratory.intrinsic+json": {
              "type": "string"
            }
          },
          "metadata": {},
          "execution_count": 73
        }
      ],
      "source": [
        "porter.stem(\"teachers\")"
      ]
    },
    {
      "cell_type": "code",
      "execution_count": 74,
      "id": "79c3e96e",
      "metadata": {
        "colab": {
          "base_uri": "https://localhost:8080/",
          "height": 36
        },
        "id": "79c3e96e",
        "outputId": "a450b81d-23b8-47cf-c6e4-d8291cd583ca"
      },
      "outputs": [
        {
          "output_type": "execute_result",
          "data": {
            "text/plain": [
              "'teach'"
            ],
            "application/vnd.google.colaboratory.intrinsic+json": {
              "type": "string"
            }
          },
          "metadata": {},
          "execution_count": 74
        }
      ],
      "source": [
        "lancaster.stem(\"teachers\")"
      ]
    },
    {
      "cell_type": "code",
      "execution_count": 75,
      "id": "5500088f",
      "metadata": {
        "colab": {
          "base_uri": "https://localhost:8080/",
          "height": 36
        },
        "id": "5500088f",
        "outputId": "e5f034fe-07af-4aa3-b303-8e9418f15841"
      },
      "outputs": [
        {
          "output_type": "execute_result",
          "data": {
            "text/plain": [
              "'absolut'"
            ],
            "application/vnd.google.colaboratory.intrinsic+json": {
              "type": "string"
            }
          },
          "metadata": {},
          "execution_count": 75
        }
      ],
      "source": [
        "porter.stem(\"absolutely\")"
      ]
    },
    {
      "cell_type": "code",
      "execution_count": 76,
      "id": "a43bb2ba",
      "metadata": {
        "colab": {
          "base_uri": "https://localhost:8080/",
          "height": 36
        },
        "id": "a43bb2ba",
        "outputId": "17164273-03f5-4394-e5a5-f7243ea7f08b"
      },
      "outputs": [
        {
          "output_type": "execute_result",
          "data": {
            "text/plain": [
              "'absolv'"
            ],
            "application/vnd.google.colaboratory.intrinsic+json": {
              "type": "string"
            }
          },
          "metadata": {},
          "execution_count": 76
        }
      ],
      "source": [
        "lancaster.stem(\"absolutely\")"
      ]
    },
    {
      "cell_type": "code",
      "execution_count": 77,
      "id": "826ea50f",
      "metadata": {
        "id": "826ea50f"
      },
      "outputs": [],
      "source": [
        "tokens = [[porter.stem(word) for word in t] for t in tokens]"
      ]
    },
    {
      "cell_type": "code",
      "execution_count": 78,
      "id": "06da3738",
      "metadata": {
        "colab": {
          "base_uri": "https://localhost:8080/"
        },
        "id": "06da3738",
        "outputId": "a1d3d397-0c9d-477d-e1de-4ae6a4f20769"
      },
      "outputs": [
        {
          "output_type": "execute_result",
          "data": {
            "text/plain": [
              "['unabl', 'save', 'work', 'noth', 'work']"
            ]
          },
          "metadata": {},
          "execution_count": 78
        }
      ],
      "source": [
        "tokens[13]"
      ]
    },
    {
      "cell_type": "code",
      "execution_count": 79,
      "id": "42a0a985",
      "metadata": {
        "colab": {
          "base_uri": "https://localhost:8080/",
          "height": 36
        },
        "id": "42a0a985",
        "outputId": "86df6a24-9636-4c82-d72c-16a5681d8ed2"
      },
      "outputs": [
        {
          "output_type": "execute_result",
          "data": {
            "text/plain": [
              "'Unable to save my work. Nothing works :('"
            ],
            "application/vnd.google.colaboratory.intrinsic+json": {
              "type": "string"
            }
          },
          "metadata": {},
          "execution_count": 79
        }
      ],
      "source": [
        "reviews[13]"
      ]
    },
    {
      "cell_type": "code",
      "execution_count": 80,
      "id": "e0692f7b",
      "metadata": {
        "colab": {
          "base_uri": "https://localhost:8080/"
        },
        "id": "e0692f7b",
        "outputId": "02126bdd-68d5-486d-aff6-8856a4d27d00"
      },
      "outputs": [
        {
          "output_type": "execute_result",
          "data": {
            "text/plain": [
              "['absolut', 'amaz', 'lifesav', 'teacher']"
            ]
          },
          "metadata": {},
          "execution_count": 80
        }
      ],
      "source": [
        "tokens[1495]"
      ]
    },
    {
      "cell_type": "code",
      "execution_count": 81,
      "id": "8b9ef0d3",
      "metadata": {
        "colab": {
          "base_uri": "https://localhost:8080/",
          "height": 36
        },
        "id": "8b9ef0d3",
        "outputId": "c2f9eb48-8533-4c3c-d6df-bd07c24063b5"
      },
      "outputs": [
        {
          "output_type": "execute_result",
          "data": {
            "text/plain": [
              "'Absolutely amazing and a lifesaver for teachers.'"
            ],
            "application/vnd.google.colaboratory.intrinsic+json": {
              "type": "string"
            }
          },
          "metadata": {},
          "execution_count": 81
        }
      ],
      "source": [
        "reviews[1495]"
      ]
    },
    {
      "cell_type": "markdown",
      "id": "e5780d6a",
      "metadata": {
        "id": "e5780d6a"
      },
      "source": [
        "# Word count distribution"
      ]
    },
    {
      "cell_type": "code",
      "execution_count": 82,
      "id": "db8705a4",
      "metadata": {
        "id": "db8705a4"
      },
      "outputs": [],
      "source": [
        "flat_tokens = [word for t in tokens for word in t]"
      ]
    },
    {
      "cell_type": "code",
      "execution_count": 83,
      "id": "1cd37f07",
      "metadata": {
        "colab": {
          "base_uri": "https://localhost:8080/"
        },
        "id": "1cd37f07",
        "outputId": "671fae7f-8e61-41e4-e843-4bf832d05277"
      },
      "outputs": [
        {
          "output_type": "execute_result",
          "data": {
            "text/plain": [
              "13782"
            ]
          },
          "metadata": {},
          "execution_count": 83
        }
      ],
      "source": [
        "len(flat_tokens)"
      ]
    },
    {
      "cell_type": "code",
      "execution_count": 84,
      "id": "4f712e81",
      "metadata": {
        "colab": {
          "base_uri": "https://localhost:8080/"
        },
        "id": "4f712e81",
        "outputId": "c458607e-dc86-4ccb-db7d-aca7913c6800"
      },
      "outputs": [
        {
          "output_type": "execute_result",
          "data": {
            "text/plain": [
              "['overal', 's', 'realli', 'amaz', 'app', 've', 'use', 'past', '5', 'year']"
            ]
          },
          "metadata": {},
          "execution_count": 84
        }
      ],
      "source": [
        "flat_tokens[:10]"
      ]
    },
    {
      "cell_type": "code",
      "execution_count": 85,
      "id": "0b7c4641",
      "metadata": {
        "id": "0b7c4641"
      },
      "outputs": [],
      "source": [
        "counts = Counter(flat_tokens)"
      ]
    },
    {
      "cell_type": "code",
      "execution_count": 86,
      "id": "6c0b5e85",
      "metadata": {
        "colab": {
          "base_uri": "https://localhost:8080/"
        },
        "id": "6c0b5e85",
        "outputId": "df89fa4c-dc57-4ecf-b91f-8ae823b96eb5"
      },
      "outputs": [
        {
          "output_type": "execute_result",
          "data": {
            "text/plain": [
              "1720"
            ]
          },
          "metadata": {},
          "execution_count": 86
        }
      ],
      "source": [
        "len(counts)"
      ]
    },
    {
      "cell_type": "code",
      "execution_count": 87,
      "id": "27044c50",
      "metadata": {
        "colab": {
          "base_uri": "https://localhost:8080/"
        },
        "id": "27044c50",
        "outputId": "60c63670-6d6f-4dd0-ecb3-024423940541"
      },
      "outputs": [
        {
          "output_type": "execute_result",
          "data": {
            "text/plain": [
              "[('app', 932),\n",
              " ('use', 474),\n",
              " ('design', 349),\n",
              " ('easi', 293),\n",
              " ('s', 240),\n",
              " ('love', 220),\n",
              " ('good', 219),\n",
              " ('edit', 191),\n",
              " ('make', 190),\n",
              " ('great', 184)]"
            ]
          },
          "metadata": {},
          "execution_count": 87
        }
      ],
      "source": [
        "counts.most_common(10)"
      ]
    },
    {
      "cell_type": "markdown",
      "id": "8a7145eb",
      "metadata": {
        "id": "8a7145eb"
      },
      "source": [
        "# Bag of Words"
      ]
    },
    {
      "cell_type": "code",
      "execution_count": 88,
      "id": "8ceece36",
      "metadata": {
        "colab": {
          "base_uri": "https://localhost:8080/"
        },
        "id": "8ceece36",
        "outputId": "323b5ab2-557a-4431-f24c-1d744c0dbb0e"
      },
      "outputs": [
        {
          "output_type": "execute_result",
          "data": {
            "text/plain": [
              "['unabl', 'save', 'work', 'noth', 'work']"
            ]
          },
          "metadata": {},
          "execution_count": 88
        }
      ],
      "source": [
        "tokens[13]"
      ]
    },
    {
      "cell_type": "code",
      "execution_count": 89,
      "id": "20148bfa",
      "metadata": {
        "colab": {
          "base_uri": "https://localhost:8080/",
          "height": 36
        },
        "id": "20148bfa",
        "outputId": "0ee0f000-224e-4d15-c5ee-4a123fe3405a"
      },
      "outputs": [
        {
          "output_type": "execute_result",
          "data": {
            "text/plain": [
              "'unabl save work noth work'"
            ],
            "application/vnd.google.colaboratory.intrinsic+json": {
              "type": "string"
            }
          },
          "metadata": {},
          "execution_count": 89
        }
      ],
      "source": [
        "\" \".join(tokens[13])"
      ]
    },
    {
      "cell_type": "code",
      "execution_count": 90,
      "id": "c2182b74",
      "metadata": {
        "id": "c2182b74"
      },
      "outputs": [],
      "source": [
        "clean_reviews = [\" \".join(t) for t in tokens]"
      ]
    },
    {
      "cell_type": "code",
      "execution_count": 91,
      "id": "534e48d5",
      "metadata": {
        "colab": {
          "base_uri": "https://localhost:8080/",
          "height": 36
        },
        "id": "534e48d5",
        "outputId": "4062f786-4dea-4859-fbae-4db8ca861a1e"
      },
      "outputs": [
        {
          "output_type": "execute_result",
          "data": {
            "text/plain": [
              "'unabl save work noth work'"
            ],
            "application/vnd.google.colaboratory.intrinsic+json": {
              "type": "string"
            }
          },
          "metadata": {},
          "execution_count": 91
        }
      ],
      "source": [
        "clean_reviews[13]"
      ]
    },
    {
      "cell_type": "code",
      "execution_count": 92,
      "id": "b6a78b1a",
      "metadata": {
        "colab": {
          "base_uri": "https://localhost:8080/",
          "height": 36
        },
        "id": "b6a78b1a",
        "outputId": "9a01abc0-837b-4822-bfaa-d7964f223b73"
      },
      "outputs": [
        {
          "output_type": "execute_result",
          "data": {
            "text/plain": [
              "'absolut amaz lifesav teacher'"
            ],
            "application/vnd.google.colaboratory.intrinsic+json": {
              "type": "string"
            }
          },
          "metadata": {},
          "execution_count": 92
        }
      ],
      "source": [
        "clean_reviews[1495]"
      ]
    },
    {
      "cell_type": "code",
      "execution_count": 93,
      "id": "fd0ab97a",
      "metadata": {
        "id": "fd0ab97a"
      },
      "outputs": [],
      "source": [
        "vect = CountVectorizer(binary=True, min_df=5)"
      ]
    },
    {
      "cell_type": "code",
      "execution_count": 94,
      "id": "d35f889d",
      "metadata": {
        "id": "d35f889d"
      },
      "outputs": [],
      "source": [
        "X = vect.fit_transform(clean_reviews)"
      ]
    },
    {
      "cell_type": "code",
      "execution_count": 95,
      "id": "4039e6ab",
      "metadata": {
        "colab": {
          "base_uri": "https://localhost:8080/"
        },
        "id": "4039e6ab",
        "outputId": "7bc9e9e0-4637-4822-a864-e76ad22f01bf"
      },
      "outputs": [
        {
          "output_type": "execute_result",
          "data": {
            "text/plain": [
              "(1500, 413)"
            ]
          },
          "metadata": {},
          "execution_count": 95
        }
      ],
      "source": [
        "X.shape"
      ]
    },
    {
      "cell_type": "markdown",
      "id": "78d386fd",
      "metadata": {
        "id": "78d386fd"
      },
      "source": [
        "### Unique words in the vocabulary"
      ]
    },
    {
      "cell_type": "code",
      "execution_count": 96,
      "id": "6c9da9ce",
      "metadata": {
        "colab": {
          "base_uri": "https://localhost:8080/"
        },
        "id": "6c9da9ce",
        "outputId": "5be524df-80b7-44c3-aba1-9b21f48f65f3"
      },
      "outputs": [
        {
          "output_type": "execute_result",
          "data": {
            "text/plain": [
              "413"
            ]
          },
          "metadata": {},
          "execution_count": 96
        }
      ],
      "source": [
        "len(vect.vocabulary_)"
      ]
    },
    {
      "cell_type": "markdown",
      "id": "0b3a9945",
      "metadata": {
        "id": "0b3a9945"
      },
      "source": [
        "### Convert the sparse matrix to array"
      ]
    },
    {
      "cell_type": "code",
      "execution_count": 97,
      "id": "f4a6ce3e",
      "metadata": {
        "colab": {
          "base_uri": "https://localhost:8080/"
        },
        "id": "f4a6ce3e",
        "outputId": "13548dc8-7d4f-4aac-aa46-04707b76b208"
      },
      "outputs": [
        {
          "output_type": "execute_result",
          "data": {
            "text/plain": [
              "scipy.sparse._csr.csr_matrix"
            ]
          },
          "metadata": {},
          "execution_count": 97
        }
      ],
      "source": [
        "type(X)"
      ]
    },
    {
      "cell_type": "code",
      "execution_count": 98,
      "id": "40e94c86",
      "metadata": {
        "id": "40e94c86"
      },
      "outputs": [],
      "source": [
        "X_a = X.toarray()"
      ]
    },
    {
      "cell_type": "code",
      "execution_count": 99,
      "id": "673daeb2",
      "metadata": {
        "colab": {
          "base_uri": "https://localhost:8080/"
        },
        "id": "673daeb2",
        "outputId": "331a0098-3a76-445b-eadb-1d0598c718b7"
      },
      "outputs": [
        {
          "output_type": "execute_result",
          "data": {
            "text/plain": [
              "(1500, 413)"
            ]
          },
          "metadata": {},
          "execution_count": 99
        }
      ],
      "source": [
        "X_a.shape"
      ]
    },
    {
      "cell_type": "code",
      "execution_count": 100,
      "id": "cd005ed0",
      "metadata": {
        "colab": {
          "base_uri": "https://localhost:8080/"
        },
        "id": "cd005ed0",
        "outputId": "2937d0a6-5577-4e6b-c877-dd2efc56e15d"
      },
      "outputs": [
        {
          "output_type": "execute_result",
          "data": {
            "text/plain": [
              "array([0, 0, 0, 0, 0, 0, 0, 0, 0, 0, 0, 0, 0, 0, 0, 0, 0, 0, 0, 0, 0, 0,\n",
              "       0, 0, 0, 0, 0, 0, 0, 0, 0, 0, 0, 0, 0, 0, 0, 0, 0, 0, 0, 0, 0, 0,\n",
              "       0, 0, 0, 0, 0, 0, 0, 0, 0, 0, 0, 0, 0, 0, 0, 0, 0, 0, 0, 0, 0, 0,\n",
              "       0, 0, 0, 0, 0, 0, 0, 0, 0, 0, 0, 0, 0, 0, 0, 0, 0, 0, 0, 0, 0, 0,\n",
              "       0, 0, 0, 0, 0, 0, 0, 0, 0, 0, 0, 0, 0, 0, 0, 0, 0, 0, 0, 0, 0, 0,\n",
              "       0, 0, 0, 0, 0, 0, 0, 0, 0, 0, 0, 0, 0, 0, 0, 0, 0, 0, 0, 0, 0, 0,\n",
              "       0, 0, 0, 0, 0, 0, 0, 0, 0, 0, 0, 0, 0, 0, 0, 0, 0, 0, 0, 0, 0, 0,\n",
              "       0, 0, 0, 0, 0, 0, 0, 0, 0, 0, 0, 0, 0, 0, 0, 0, 0, 0, 0, 0, 0, 0,\n",
              "       0, 0, 0, 0, 0, 0, 0, 0, 0, 0, 0, 0, 0, 0, 0, 0, 0, 0, 0, 0, 0, 0,\n",
              "       0, 0, 0, 0, 0, 0, 0, 0, 0, 0, 0, 0, 0, 0, 0, 0, 0, 0, 0, 0, 0, 0,\n",
              "       0, 0, 0, 0, 0, 0, 0, 0, 0, 0, 0, 0, 0, 1, 0, 0, 0, 0, 0, 0, 0, 0,\n",
              "       0, 0, 0, 0, 0, 0, 0, 0, 0, 0, 0, 0, 0, 0, 0, 0, 0, 0, 0, 0, 0, 0,\n",
              "       0, 0, 0, 0, 0, 0, 0, 0, 0, 0, 0, 0, 0, 0, 0, 0, 0, 0, 0, 0, 0, 0,\n",
              "       0, 0, 0, 0, 0, 0, 0, 0, 0, 0, 0, 0, 0, 0, 0, 0, 1, 0, 0, 0, 0, 0,\n",
              "       0, 0, 0, 0, 0, 0, 0, 0, 0, 0, 0, 0, 0, 0, 0, 0, 0, 0, 0, 0, 0, 0,\n",
              "       0, 0, 0, 0, 0, 0, 0, 0, 0, 0, 0, 0, 0, 0, 0, 0, 0, 0, 0, 0, 0, 0,\n",
              "       0, 0, 0, 0, 0, 0, 0, 0, 0, 0, 0, 0, 0, 0, 0, 0, 0, 0, 1, 0, 0, 0,\n",
              "       0, 0, 0, 0, 0, 0, 0, 0, 0, 0, 0, 0, 0, 0, 0, 0, 0, 0, 0, 0, 0, 0,\n",
              "       0, 0, 0, 0, 0, 1, 0, 0, 0, 0, 0, 0, 0, 0, 0, 0, 0])"
            ]
          },
          "metadata": {},
          "execution_count": 100
        }
      ],
      "source": [
        "X_a[13,:]"
      ]
    },
    {
      "cell_type": "code",
      "execution_count": 105,
      "id": "35ceddb7",
      "metadata": {
        "colab": {
          "base_uri": "https://localhost:8080/"
        },
        "id": "35ceddb7",
        "outputId": "90323638-01d3-4198-f720-a1c2c5384f24"
      },
      "outputs": [
        {
          "output_type": "execute_result",
          "data": {
            "text/plain": [
              "4"
            ]
          },
          "metadata": {},
          "execution_count": 105
        }
      ],
      "source": [
        "X_a[13,:].sum()"
      ]
    },
    {
      "cell_type": "code",
      "execution_count": 106,
      "id": "e227645e",
      "metadata": {
        "colab": {
          "base_uri": "https://localhost:8080/",
          "height": 36
        },
        "id": "e227645e",
        "outputId": "7c7f505e-381f-4c02-a375-b5f998c34f95"
      },
      "outputs": [
        {
          "output_type": "execute_result",
          "data": {
            "text/plain": [
              "'unabl save work noth work'"
            ],
            "application/vnd.google.colaboratory.intrinsic+json": {
              "type": "string"
            }
          },
          "metadata": {},
          "execution_count": 106
        }
      ],
      "source": [
        "clean_reviews[13]"
      ]
    },
    {
      "cell_type": "code",
      "execution_count": 110,
      "id": "70c921d1",
      "metadata": {
        "id": "70c921d1"
      },
      "outputs": [],
      "source": [
        "vect.get_feature_names().index(\"unabl\")"
      ]
    },
    {
      "cell_type": "code",
      "execution_count": 109,
      "id": "66fb4b28",
      "metadata": {
        "colab": {
          "base_uri": "https://localhost:8080/"
        },
        "id": "66fb4b28",
        "outputId": "01a274f7-0a3b-46a2-b79b-e633af90150b"
      },
      "outputs": [
        {
          "output_type": "execute_result",
          "data": {
            "text/plain": [
              "1"
            ]
          },
          "metadata": {},
          "execution_count": 109
        }
      ],
      "source": [
        "X_a[13,370]"
      ]
    },
    {
      "cell_type": "code",
      "execution_count": 112,
      "id": "b86f5d6a",
      "metadata": {
        "id": "b86f5d6a"
      },
      "outputs": [],
      "source": [
        "vect.get_feature_names().index(\"work\")"
      ]
    },
    {
      "cell_type": "code",
      "execution_count": 113,
      "id": "1234e9fd",
      "metadata": {
        "colab": {
          "base_uri": "https://localhost:8080/"
        },
        "id": "1234e9fd",
        "outputId": "eb40bb5d-1fdd-425e-fa2f-f2c3ffa4327a"
      },
      "outputs": [
        {
          "output_type": "execute_result",
          "data": {
            "text/plain": [
              "1"
            ]
          },
          "metadata": {},
          "execution_count": 113
        }
      ],
      "source": [
        "X_a[13,401]"
      ]
    },
    {
      "cell_type": "code",
      "execution_count": 114,
      "id": "a7733b84",
      "metadata": {
        "colab": {
          "base_uri": "https://localhost:8080/",
          "height": 206
        },
        "id": "a7733b84",
        "outputId": "38b30268-e6c7-4f77-88b2-d5f5004a313b"
      },
      "outputs": [
        {
          "output_type": "execute_result",
          "data": {
            "text/plain": [
              "                                              review Sentiment\n",
              "0  Overall it's really an amazing app. I've been ...  Negative\n",
              "1  Hey! Yes I gave a 5 star rating... coz I belie...  Positive\n",
              "2  Canva used to be a good app! But recently I've...  Negative\n",
              "3  It's a brilliant app, but I have just one prob...  Negative\n",
              "4  This was such a great app. I used to make BTS ...  Negative"
            ],
            "text/html": [
              "\n",
              "  <div id=\"df-09b6db6c-7809-44c1-9856-6a54e81fe472\" class=\"colab-df-container\">\n",
              "    <div>\n",
              "<style scoped>\n",
              "    .dataframe tbody tr th:only-of-type {\n",
              "        vertical-align: middle;\n",
              "    }\n",
              "\n",
              "    .dataframe tbody tr th {\n",
              "        vertical-align: top;\n",
              "    }\n",
              "\n",
              "    .dataframe thead th {\n",
              "        text-align: right;\n",
              "    }\n",
              "</style>\n",
              "<table border=\"1\" class=\"dataframe\">\n",
              "  <thead>\n",
              "    <tr style=\"text-align: right;\">\n",
              "      <th></th>\n",
              "      <th>review</th>\n",
              "      <th>Sentiment</th>\n",
              "    </tr>\n",
              "  </thead>\n",
              "  <tbody>\n",
              "    <tr>\n",
              "      <th>0</th>\n",
              "      <td>Overall it's really an amazing app. I've been ...</td>\n",
              "      <td>Negative</td>\n",
              "    </tr>\n",
              "    <tr>\n",
              "      <th>1</th>\n",
              "      <td>Hey! Yes I gave a 5 star rating... coz I belie...</td>\n",
              "      <td>Positive</td>\n",
              "    </tr>\n",
              "    <tr>\n",
              "      <th>2</th>\n",
              "      <td>Canva used to be a good app! But recently I've...</td>\n",
              "      <td>Negative</td>\n",
              "    </tr>\n",
              "    <tr>\n",
              "      <th>3</th>\n",
              "      <td>It's a brilliant app, but I have just one prob...</td>\n",
              "      <td>Negative</td>\n",
              "    </tr>\n",
              "    <tr>\n",
              "      <th>4</th>\n",
              "      <td>This was such a great app. I used to make BTS ...</td>\n",
              "      <td>Negative</td>\n",
              "    </tr>\n",
              "  </tbody>\n",
              "</table>\n",
              "</div>\n",
              "    <div class=\"colab-df-buttons\">\n",
              "\n",
              "  <div class=\"colab-df-container\">\n",
              "    <button class=\"colab-df-convert\" onclick=\"convertToInteractive('df-09b6db6c-7809-44c1-9856-6a54e81fe472')\"\n",
              "            title=\"Convert this dataframe to an interactive table.\"\n",
              "            style=\"display:none;\">\n",
              "\n",
              "  <svg xmlns=\"http://www.w3.org/2000/svg\" height=\"24px\" viewBox=\"0 -960 960 960\">\n",
              "    <path d=\"M120-120v-720h720v720H120Zm60-500h600v-160H180v160Zm220 220h160v-160H400v160Zm0 220h160v-160H400v160ZM180-400h160v-160H180v160Zm440 0h160v-160H620v160ZM180-180h160v-160H180v160Zm440 0h160v-160H620v160Z\"/>\n",
              "  </svg>\n",
              "    </button>\n",
              "\n",
              "  <style>\n",
              "    .colab-df-container {\n",
              "      display:flex;\n",
              "      gap: 12px;\n",
              "    }\n",
              "\n",
              "    .colab-df-convert {\n",
              "      background-color: #E8F0FE;\n",
              "      border: none;\n",
              "      border-radius: 50%;\n",
              "      cursor: pointer;\n",
              "      display: none;\n",
              "      fill: #1967D2;\n",
              "      height: 32px;\n",
              "      padding: 0 0 0 0;\n",
              "      width: 32px;\n",
              "    }\n",
              "\n",
              "    .colab-df-convert:hover {\n",
              "      background-color: #E2EBFA;\n",
              "      box-shadow: 0px 1px 2px rgba(60, 64, 67, 0.3), 0px 1px 3px 1px rgba(60, 64, 67, 0.15);\n",
              "      fill: #174EA6;\n",
              "    }\n",
              "\n",
              "    .colab-df-buttons div {\n",
              "      margin-bottom: 4px;\n",
              "    }\n",
              "\n",
              "    [theme=dark] .colab-df-convert {\n",
              "      background-color: #3B4455;\n",
              "      fill: #D2E3FC;\n",
              "    }\n",
              "\n",
              "    [theme=dark] .colab-df-convert:hover {\n",
              "      background-color: #434B5C;\n",
              "      box-shadow: 0px 1px 3px 1px rgba(0, 0, 0, 0.15);\n",
              "      filter: drop-shadow(0px 1px 2px rgba(0, 0, 0, 0.3));\n",
              "      fill: #FFFFFF;\n",
              "    }\n",
              "  </style>\n",
              "\n",
              "    <script>\n",
              "      const buttonEl =\n",
              "        document.querySelector('#df-09b6db6c-7809-44c1-9856-6a54e81fe472 button.colab-df-convert');\n",
              "      buttonEl.style.display =\n",
              "        google.colab.kernel.accessAllowed ? 'block' : 'none';\n",
              "\n",
              "      async function convertToInteractive(key) {\n",
              "        const element = document.querySelector('#df-09b6db6c-7809-44c1-9856-6a54e81fe472');\n",
              "        const dataTable =\n",
              "          await google.colab.kernel.invokeFunction('convertToInteractive',\n",
              "                                                    [key], {});\n",
              "        if (!dataTable) return;\n",
              "\n",
              "        const docLinkHtml = 'Like what you see? Visit the ' +\n",
              "          '<a target=\"_blank\" href=https://colab.research.google.com/notebooks/data_table.ipynb>data table notebook</a>'\n",
              "          + ' to learn more about interactive tables.';\n",
              "        element.innerHTML = '';\n",
              "        dataTable['output_type'] = 'display_data';\n",
              "        await google.colab.output.renderOutput(dataTable, element);\n",
              "        const docLink = document.createElement('div');\n",
              "        docLink.innerHTML = docLinkHtml;\n",
              "        element.appendChild(docLink);\n",
              "      }\n",
              "    </script>\n",
              "  </div>\n",
              "\n",
              "\n",
              "<div id=\"df-6a663a5f-5948-443d-93e4-8e3cac48926f\">\n",
              "  <button class=\"colab-df-quickchart\" onclick=\"quickchart('df-6a663a5f-5948-443d-93e4-8e3cac48926f')\"\n",
              "            title=\"Suggest charts.\"\n",
              "            style=\"display:none;\">\n",
              "\n",
              "<svg xmlns=\"http://www.w3.org/2000/svg\" height=\"24px\"viewBox=\"0 0 24 24\"\n",
              "     width=\"24px\">\n",
              "    <g>\n",
              "        <path d=\"M19 3H5c-1.1 0-2 .9-2 2v14c0 1.1.9 2 2 2h14c1.1 0 2-.9 2-2V5c0-1.1-.9-2-2-2zM9 17H7v-7h2v7zm4 0h-2V7h2v10zm4 0h-2v-4h2v4z\"/>\n",
              "    </g>\n",
              "</svg>\n",
              "  </button>\n",
              "\n",
              "<style>\n",
              "  .colab-df-quickchart {\n",
              "      --bg-color: #E8F0FE;\n",
              "      --fill-color: #1967D2;\n",
              "      --hover-bg-color: #E2EBFA;\n",
              "      --hover-fill-color: #174EA6;\n",
              "      --disabled-fill-color: #AAA;\n",
              "      --disabled-bg-color: #DDD;\n",
              "  }\n",
              "\n",
              "  [theme=dark] .colab-df-quickchart {\n",
              "      --bg-color: #3B4455;\n",
              "      --fill-color: #D2E3FC;\n",
              "      --hover-bg-color: #434B5C;\n",
              "      --hover-fill-color: #FFFFFF;\n",
              "      --disabled-bg-color: #3B4455;\n",
              "      --disabled-fill-color: #666;\n",
              "  }\n",
              "\n",
              "  .colab-df-quickchart {\n",
              "    background-color: var(--bg-color);\n",
              "    border: none;\n",
              "    border-radius: 50%;\n",
              "    cursor: pointer;\n",
              "    display: none;\n",
              "    fill: var(--fill-color);\n",
              "    height: 32px;\n",
              "    padding: 0;\n",
              "    width: 32px;\n",
              "  }\n",
              "\n",
              "  .colab-df-quickchart:hover {\n",
              "    background-color: var(--hover-bg-color);\n",
              "    box-shadow: 0 1px 2px rgba(60, 64, 67, 0.3), 0 1px 3px 1px rgba(60, 64, 67, 0.15);\n",
              "    fill: var(--button-hover-fill-color);\n",
              "  }\n",
              "\n",
              "  .colab-df-quickchart-complete:disabled,\n",
              "  .colab-df-quickchart-complete:disabled:hover {\n",
              "    background-color: var(--disabled-bg-color);\n",
              "    fill: var(--disabled-fill-color);\n",
              "    box-shadow: none;\n",
              "  }\n",
              "\n",
              "  .colab-df-spinner {\n",
              "    border: 2px solid var(--fill-color);\n",
              "    border-color: transparent;\n",
              "    border-bottom-color: var(--fill-color);\n",
              "    animation:\n",
              "      spin 1s steps(1) infinite;\n",
              "  }\n",
              "\n",
              "  @keyframes spin {\n",
              "    0% {\n",
              "      border-color: transparent;\n",
              "      border-bottom-color: var(--fill-color);\n",
              "      border-left-color: var(--fill-color);\n",
              "    }\n",
              "    20% {\n",
              "      border-color: transparent;\n",
              "      border-left-color: var(--fill-color);\n",
              "      border-top-color: var(--fill-color);\n",
              "    }\n",
              "    30% {\n",
              "      border-color: transparent;\n",
              "      border-left-color: var(--fill-color);\n",
              "      border-top-color: var(--fill-color);\n",
              "      border-right-color: var(--fill-color);\n",
              "    }\n",
              "    40% {\n",
              "      border-color: transparent;\n",
              "      border-right-color: var(--fill-color);\n",
              "      border-top-color: var(--fill-color);\n",
              "    }\n",
              "    60% {\n",
              "      border-color: transparent;\n",
              "      border-right-color: var(--fill-color);\n",
              "    }\n",
              "    80% {\n",
              "      border-color: transparent;\n",
              "      border-right-color: var(--fill-color);\n",
              "      border-bottom-color: var(--fill-color);\n",
              "    }\n",
              "    90% {\n",
              "      border-color: transparent;\n",
              "      border-bottom-color: var(--fill-color);\n",
              "    }\n",
              "  }\n",
              "</style>\n",
              "\n",
              "  <script>\n",
              "    async function quickchart(key) {\n",
              "      const quickchartButtonEl =\n",
              "        document.querySelector('#' + key + ' button');\n",
              "      quickchartButtonEl.disabled = true;  // To prevent multiple clicks.\n",
              "      quickchartButtonEl.classList.add('colab-df-spinner');\n",
              "      try {\n",
              "        const charts = await google.colab.kernel.invokeFunction(\n",
              "            'suggestCharts', [key], {});\n",
              "      } catch (error) {\n",
              "        console.error('Error during call to suggestCharts:', error);\n",
              "      }\n",
              "      quickchartButtonEl.classList.remove('colab-df-spinner');\n",
              "      quickchartButtonEl.classList.add('colab-df-quickchart-complete');\n",
              "    }\n",
              "    (() => {\n",
              "      let quickchartButtonEl =\n",
              "        document.querySelector('#df-6a663a5f-5948-443d-93e4-8e3cac48926f button');\n",
              "      quickchartButtonEl.style.display =\n",
              "        google.colab.kernel.accessAllowed ? 'block' : 'none';\n",
              "    })();\n",
              "  </script>\n",
              "</div>\n",
              "    </div>\n",
              "  </div>\n"
            ]
          },
          "metadata": {},
          "execution_count": 114
        }
      ],
      "source": [
        "data.head()"
      ]
    },
    {
      "cell_type": "code",
      "execution_count": 115,
      "id": "f943bead",
      "metadata": {
        "id": "f943bead"
      },
      "outputs": [],
      "source": [
        "data[\"Sentiment\"] = data[\"Sentiment\"].apply(lambda x: 1 if x==\"Positive\" else 0)"
      ]
    },
    {
      "cell_type": "code",
      "execution_count": 116,
      "id": "7bcead92",
      "metadata": {
        "id": "7bcead92"
      },
      "outputs": [],
      "source": [
        "y = data[\"Sentiment\"]"
      ]
    },
    {
      "cell_type": "markdown",
      "id": "7fcb7804",
      "metadata": {
        "id": "7fcb7804"
      },
      "source": [
        "### Split the dataset into train and test"
      ]
    },
    {
      "cell_type": "code",
      "execution_count": 117,
      "id": "0a0b2968",
      "metadata": {
        "id": "0a0b2968"
      },
      "outputs": [],
      "source": [
        "X_train, X_test, y_train, y_test = train_test_split(X, y, test_size=0.2,\n",
        "                                                   stratify=y, random_state=42)"
      ]
    },
    {
      "cell_type": "markdown",
      "id": "a0f64151",
      "metadata": {
        "id": "a0f64151"
      },
      "source": [
        "### Build a Logistic Regression model"
      ]
    },
    {
      "cell_type": "code",
      "execution_count": 118,
      "id": "8805bf78",
      "metadata": {
        "id": "8805bf78"
      },
      "outputs": [],
      "source": [
        "model = LogisticRegression()"
      ]
    },
    {
      "cell_type": "code",
      "execution_count": 119,
      "id": "85f9b1a7",
      "metadata": {
        "colab": {
          "base_uri": "https://localhost:8080/",
          "height": 74
        },
        "id": "85f9b1a7",
        "outputId": "f30ef1e3-de9c-4250-c364-7454d8f7d5e9"
      },
      "outputs": [
        {
          "output_type": "execute_result",
          "data": {
            "text/plain": [
              "LogisticRegression()"
            ],
            "text/html": [
              "<style>#sk-container-id-1 {color: black;background-color: white;}#sk-container-id-1 pre{padding: 0;}#sk-container-id-1 div.sk-toggleable {background-color: white;}#sk-container-id-1 label.sk-toggleable__label {cursor: pointer;display: block;width: 100%;margin-bottom: 0;padding: 0.3em;box-sizing: border-box;text-align: center;}#sk-container-id-1 label.sk-toggleable__label-arrow:before {content: \"▸\";float: left;margin-right: 0.25em;color: #696969;}#sk-container-id-1 label.sk-toggleable__label-arrow:hover:before {color: black;}#sk-container-id-1 div.sk-estimator:hover label.sk-toggleable__label-arrow:before {color: black;}#sk-container-id-1 div.sk-toggleable__content {max-height: 0;max-width: 0;overflow: hidden;text-align: left;background-color: #f0f8ff;}#sk-container-id-1 div.sk-toggleable__content pre {margin: 0.2em;color: black;border-radius: 0.25em;background-color: #f0f8ff;}#sk-container-id-1 input.sk-toggleable__control:checked~div.sk-toggleable__content {max-height: 200px;max-width: 100%;overflow: auto;}#sk-container-id-1 input.sk-toggleable__control:checked~label.sk-toggleable__label-arrow:before {content: \"▾\";}#sk-container-id-1 div.sk-estimator input.sk-toggleable__control:checked~label.sk-toggleable__label {background-color: #d4ebff;}#sk-container-id-1 div.sk-label input.sk-toggleable__control:checked~label.sk-toggleable__label {background-color: #d4ebff;}#sk-container-id-1 input.sk-hidden--visually {border: 0;clip: rect(1px 1px 1px 1px);clip: rect(1px, 1px, 1px, 1px);height: 1px;margin: -1px;overflow: hidden;padding: 0;position: absolute;width: 1px;}#sk-container-id-1 div.sk-estimator {font-family: monospace;background-color: #f0f8ff;border: 1px dotted black;border-radius: 0.25em;box-sizing: border-box;margin-bottom: 0.5em;}#sk-container-id-1 div.sk-estimator:hover {background-color: #d4ebff;}#sk-container-id-1 div.sk-parallel-item::after {content: \"\";width: 100%;border-bottom: 1px solid gray;flex-grow: 1;}#sk-container-id-1 div.sk-label:hover label.sk-toggleable__label {background-color: #d4ebff;}#sk-container-id-1 div.sk-serial::before {content: \"\";position: absolute;border-left: 1px solid gray;box-sizing: border-box;top: 0;bottom: 0;left: 50%;z-index: 0;}#sk-container-id-1 div.sk-serial {display: flex;flex-direction: column;align-items: center;background-color: white;padding-right: 0.2em;padding-left: 0.2em;position: relative;}#sk-container-id-1 div.sk-item {position: relative;z-index: 1;}#sk-container-id-1 div.sk-parallel {display: flex;align-items: stretch;justify-content: center;background-color: white;position: relative;}#sk-container-id-1 div.sk-item::before, #sk-container-id-1 div.sk-parallel-item::before {content: \"\";position: absolute;border-left: 1px solid gray;box-sizing: border-box;top: 0;bottom: 0;left: 50%;z-index: -1;}#sk-container-id-1 div.sk-parallel-item {display: flex;flex-direction: column;z-index: 1;position: relative;background-color: white;}#sk-container-id-1 div.sk-parallel-item:first-child::after {align-self: flex-end;width: 50%;}#sk-container-id-1 div.sk-parallel-item:last-child::after {align-self: flex-start;width: 50%;}#sk-container-id-1 div.sk-parallel-item:only-child::after {width: 0;}#sk-container-id-1 div.sk-dashed-wrapped {border: 1px dashed gray;margin: 0 0.4em 0.5em 0.4em;box-sizing: border-box;padding-bottom: 0.4em;background-color: white;}#sk-container-id-1 div.sk-label label {font-family: monospace;font-weight: bold;display: inline-block;line-height: 1.2em;}#sk-container-id-1 div.sk-label-container {text-align: center;}#sk-container-id-1 div.sk-container {/* jupyter's `normalize.less` sets `[hidden] { display: none; }` but bootstrap.min.css set `[hidden] { display: none !important; }` so we also need the `!important` here to be able to override the default hidden behavior on the sphinx rendered scikit-learn.org. See: https://github.com/scikit-learn/scikit-learn/issues/21755 */display: inline-block !important;position: relative;}#sk-container-id-1 div.sk-text-repr-fallback {display: none;}</style><div id=\"sk-container-id-1\" class=\"sk-top-container\"><div class=\"sk-text-repr-fallback\"><pre>LogisticRegression()</pre><b>In a Jupyter environment, please rerun this cell to show the HTML representation or trust the notebook. <br />On GitHub, the HTML representation is unable to render, please try loading this page with nbviewer.org.</b></div><div class=\"sk-container\" hidden><div class=\"sk-item\"><div class=\"sk-estimator sk-toggleable\"><input class=\"sk-toggleable__control sk-hidden--visually\" id=\"sk-estimator-id-1\" type=\"checkbox\" checked><label for=\"sk-estimator-id-1\" class=\"sk-toggleable__label sk-toggleable__label-arrow\">LogisticRegression</label><div class=\"sk-toggleable__content\"><pre>LogisticRegression()</pre></div></div></div></div></div>"
            ]
          },
          "metadata": {},
          "execution_count": 119
        }
      ],
      "source": [
        "model.fit(X_train, y_train)"
      ]
    },
    {
      "cell_type": "code",
      "execution_count": 120,
      "id": "fb0cb2b7",
      "metadata": {
        "id": "fb0cb2b7"
      },
      "outputs": [],
      "source": [
        "train_pred = model.predict(X_train)"
      ]
    },
    {
      "cell_type": "code",
      "execution_count": 121,
      "id": "3c50f036",
      "metadata": {
        "colab": {
          "base_uri": "https://localhost:8080/"
        },
        "id": "3c50f036",
        "outputId": "959573a1-e8b9-46a1-a4ab-670b23a7d9ca"
      },
      "outputs": [
        {
          "output_type": "execute_result",
          "data": {
            "text/plain": [
              "0.9608333333333333"
            ]
          },
          "metadata": {},
          "execution_count": 121
        }
      ],
      "source": [
        "accuracy_score(y_train, train_pred)"
      ]
    },
    {
      "cell_type": "code",
      "execution_count": 122,
      "id": "794f093c",
      "metadata": {
        "colab": {
          "base_uri": "https://localhost:8080/"
        },
        "id": "794f093c",
        "outputId": "25b1be98-7e0b-41e2-ceae-f00617deced3"
      },
      "outputs": [
        {
          "output_type": "execute_result",
          "data": {
            "text/plain": [
              "0.89"
            ]
          },
          "metadata": {},
          "execution_count": 122
        }
      ],
      "source": [
        "test_pred = model.predict(X_test)\n",
        "accuracy_score(y_test, test_pred)"
      ]
    },
    {
      "cell_type": "markdown",
      "id": "400ac5ba",
      "metadata": {
        "id": "400ac5ba"
      },
      "source": [
        "### Save both the vectorizer and the model"
      ]
    },
    {
      "cell_type": "code",
      "execution_count": 124,
      "id": "40b81d04",
      "metadata": {
        "id": "40b81d04"
      },
      "outputs": [],
      "source": [
        "with open(\"binary_count_vect.pkl\", \"wb\") as f:\n",
        "    pickle.dump(vect, f)\n",
        "with open(\"binary_count_vect_lr.pkl\", \"wb\") as f:\n",
        "    pickle.dump(model, f)"
      ]
    },
    {
      "cell_type": "markdown",
      "id": "35284dda",
      "metadata": {
        "id": "35284dda"
      },
      "source": [
        "### Bag of words without binary"
      ]
    },
    {
      "cell_type": "code",
      "execution_count": 125,
      "id": "cdf59374",
      "metadata": {
        "id": "cdf59374"
      },
      "outputs": [],
      "source": [
        "vect = CountVectorizer(min_df=5)\n",
        "X = vect.fit_transform(clean_reviews)"
      ]
    },
    {
      "cell_type": "code",
      "execution_count": 126,
      "id": "68f43311",
      "metadata": {
        "id": "68f43311"
      },
      "outputs": [],
      "source": [
        "X_a = X.toarray()"
      ]
    },
    {
      "cell_type": "code",
      "execution_count": 127,
      "id": "c220a6ef",
      "metadata": {
        "colab": {
          "base_uri": "https://localhost:8080/",
          "height": 36
        },
        "id": "c220a6ef",
        "outputId": "558073e7-c52f-401c-d6f5-1bfc099a92e4"
      },
      "outputs": [
        {
          "output_type": "execute_result",
          "data": {
            "text/plain": [
              "'unabl save work noth work'"
            ],
            "application/vnd.google.colaboratory.intrinsic+json": {
              "type": "string"
            }
          },
          "metadata": {},
          "execution_count": 127
        }
      ],
      "source": [
        "clean_reviews[13]"
      ]
    },
    {
      "cell_type": "code",
      "execution_count": 132,
      "id": "f5bbee77",
      "metadata": {
        "id": "f5bbee77"
      },
      "outputs": [],
      "source": [
        "vect.get_feature_names().index(\"work\")"
      ]
    },
    {
      "cell_type": "code",
      "execution_count": 133,
      "id": "c261e772",
      "metadata": {
        "colab": {
          "base_uri": "https://localhost:8080/"
        },
        "id": "c261e772",
        "outputId": "60fb28ca-f3f3-41e0-b3c6-1f4ea087e332"
      },
      "outputs": [
        {
          "output_type": "execute_result",
          "data": {
            "text/plain": [
              "array([0, 0, 0, 0, 0, 0, 0, 0, 0, 0, 0, 0, 0, 0, 0, 0, 0, 0, 0, 0, 0, 0,\n",
              "       0, 0, 0, 0, 0, 0, 0, 0, 0, 0, 0, 0, 0, 0, 0, 0, 0, 0, 0, 0, 0, 0,\n",
              "       0, 0, 0, 0, 0, 0, 0, 0, 0, 0, 0, 0, 0, 0, 0, 0, 0, 0, 0, 0, 0, 0,\n",
              "       0, 0, 0, 0, 0, 0, 0, 0, 0, 0, 0, 0, 0, 0, 0, 0, 0, 0, 0, 0, 0, 0,\n",
              "       0, 0, 0, 0, 0, 0, 0, 0, 0, 0, 0, 0, 0, 0, 0, 0, 0, 0, 0, 0, 0, 0,\n",
              "       0, 0, 0, 0, 0, 0, 0, 0, 0, 0, 0, 0, 0, 0, 0, 0, 0, 0, 0, 0, 0, 0,\n",
              "       0, 0, 0, 0, 0, 0, 0, 0, 0, 0, 0, 0, 0, 0, 0, 0, 0, 0, 0, 0, 0, 0,\n",
              "       0, 0, 0, 0, 0, 0, 0, 0, 0, 0, 0, 0, 0, 0, 0, 0, 0, 0, 0, 0, 0, 0,\n",
              "       0, 0, 0, 0, 0, 0, 0, 0, 0, 0, 0, 0, 0, 0, 0, 0, 0, 0, 0, 0, 0, 0,\n",
              "       0, 0, 0, 0, 0, 0, 0, 0, 0, 0, 0, 0, 0, 0, 0, 0, 0, 0, 0, 0, 0, 0,\n",
              "       0, 0, 0, 0, 0, 0, 0, 0, 0, 0, 0, 0, 0, 1, 0, 0, 0, 0, 0, 0, 0, 0,\n",
              "       0, 0, 0, 0, 0, 0, 0, 0, 0, 0, 0, 0, 0, 0, 0, 0, 0, 0, 0, 0, 0, 0,\n",
              "       0, 0, 0, 0, 0, 0, 0, 0, 0, 0, 0, 0, 0, 0, 0, 0, 0, 0, 0, 0, 0, 0,\n",
              "       0, 0, 0, 0, 0, 0, 0, 0, 0, 0, 0, 0, 0, 0, 0, 0, 1, 0, 0, 0, 0, 0,\n",
              "       0, 0, 0, 0, 0, 0, 0, 0, 0, 0, 0, 0, 0, 0, 0, 0, 0, 0, 0, 0, 0, 0,\n",
              "       0, 0, 0, 0, 0, 0, 0, 0, 0, 0, 0, 0, 0, 0, 0, 0, 0, 0, 0, 0, 0, 0,\n",
              "       0, 0, 0, 0, 0, 0, 0, 0, 0, 0, 0, 0, 0, 0, 0, 0, 0, 0, 1, 0, 0, 0,\n",
              "       0, 0, 0, 0, 0, 0, 0, 0, 0, 0, 0, 0, 0, 0, 0, 0, 0, 0, 0, 0, 0, 0,\n",
              "       0, 0, 0, 0, 0, 2, 0, 0, 0, 0, 0, 0, 0, 0, 0, 0, 0])"
            ]
          },
          "metadata": {},
          "execution_count": 133
        }
      ],
      "source": [
        "X_a[13,:]"
      ]
    },
    {
      "cell_type": "code",
      "execution_count": 134,
      "id": "c3bd6f76",
      "metadata": {
        "colab": {
          "base_uri": "https://localhost:8080/"
        },
        "id": "c3bd6f76",
        "outputId": "33726458-5d87-45ac-c9b5-374ca05bb29e"
      },
      "outputs": [
        {
          "output_type": "execute_result",
          "data": {
            "text/plain": [
              "2"
            ]
          },
          "metadata": {},
          "execution_count": 134
        }
      ],
      "source": [
        "X_a[13,401]"
      ]
    },
    {
      "cell_type": "code",
      "execution_count": 135,
      "id": "e49751cc",
      "metadata": {
        "id": "e49751cc"
      },
      "outputs": [],
      "source": [
        "X_train, X_test, y_train, y_test = train_test_split(X, y, test_size=0.2,\n",
        "                                                   stratify=y, random_state=42)"
      ]
    },
    {
      "cell_type": "code",
      "execution_count": 136,
      "id": "b9913410",
      "metadata": {
        "colab": {
          "base_uri": "https://localhost:8080/",
          "height": 74
        },
        "id": "b9913410",
        "outputId": "053595b5-28e3-458e-a614-7a5216b99a76"
      },
      "outputs": [
        {
          "output_type": "execute_result",
          "data": {
            "text/plain": [
              "LogisticRegression()"
            ],
            "text/html": [
              "<style>#sk-container-id-2 {color: black;background-color: white;}#sk-container-id-2 pre{padding: 0;}#sk-container-id-2 div.sk-toggleable {background-color: white;}#sk-container-id-2 label.sk-toggleable__label {cursor: pointer;display: block;width: 100%;margin-bottom: 0;padding: 0.3em;box-sizing: border-box;text-align: center;}#sk-container-id-2 label.sk-toggleable__label-arrow:before {content: \"▸\";float: left;margin-right: 0.25em;color: #696969;}#sk-container-id-2 label.sk-toggleable__label-arrow:hover:before {color: black;}#sk-container-id-2 div.sk-estimator:hover label.sk-toggleable__label-arrow:before {color: black;}#sk-container-id-2 div.sk-toggleable__content {max-height: 0;max-width: 0;overflow: hidden;text-align: left;background-color: #f0f8ff;}#sk-container-id-2 div.sk-toggleable__content pre {margin: 0.2em;color: black;border-radius: 0.25em;background-color: #f0f8ff;}#sk-container-id-2 input.sk-toggleable__control:checked~div.sk-toggleable__content {max-height: 200px;max-width: 100%;overflow: auto;}#sk-container-id-2 input.sk-toggleable__control:checked~label.sk-toggleable__label-arrow:before {content: \"▾\";}#sk-container-id-2 div.sk-estimator input.sk-toggleable__control:checked~label.sk-toggleable__label {background-color: #d4ebff;}#sk-container-id-2 div.sk-label input.sk-toggleable__control:checked~label.sk-toggleable__label {background-color: #d4ebff;}#sk-container-id-2 input.sk-hidden--visually {border: 0;clip: rect(1px 1px 1px 1px);clip: rect(1px, 1px, 1px, 1px);height: 1px;margin: -1px;overflow: hidden;padding: 0;position: absolute;width: 1px;}#sk-container-id-2 div.sk-estimator {font-family: monospace;background-color: #f0f8ff;border: 1px dotted black;border-radius: 0.25em;box-sizing: border-box;margin-bottom: 0.5em;}#sk-container-id-2 div.sk-estimator:hover {background-color: #d4ebff;}#sk-container-id-2 div.sk-parallel-item::after {content: \"\";width: 100%;border-bottom: 1px solid gray;flex-grow: 1;}#sk-container-id-2 div.sk-label:hover label.sk-toggleable__label {background-color: #d4ebff;}#sk-container-id-2 div.sk-serial::before {content: \"\";position: absolute;border-left: 1px solid gray;box-sizing: border-box;top: 0;bottom: 0;left: 50%;z-index: 0;}#sk-container-id-2 div.sk-serial {display: flex;flex-direction: column;align-items: center;background-color: white;padding-right: 0.2em;padding-left: 0.2em;position: relative;}#sk-container-id-2 div.sk-item {position: relative;z-index: 1;}#sk-container-id-2 div.sk-parallel {display: flex;align-items: stretch;justify-content: center;background-color: white;position: relative;}#sk-container-id-2 div.sk-item::before, #sk-container-id-2 div.sk-parallel-item::before {content: \"\";position: absolute;border-left: 1px solid gray;box-sizing: border-box;top: 0;bottom: 0;left: 50%;z-index: -1;}#sk-container-id-2 div.sk-parallel-item {display: flex;flex-direction: column;z-index: 1;position: relative;background-color: white;}#sk-container-id-2 div.sk-parallel-item:first-child::after {align-self: flex-end;width: 50%;}#sk-container-id-2 div.sk-parallel-item:last-child::after {align-self: flex-start;width: 50%;}#sk-container-id-2 div.sk-parallel-item:only-child::after {width: 0;}#sk-container-id-2 div.sk-dashed-wrapped {border: 1px dashed gray;margin: 0 0.4em 0.5em 0.4em;box-sizing: border-box;padding-bottom: 0.4em;background-color: white;}#sk-container-id-2 div.sk-label label {font-family: monospace;font-weight: bold;display: inline-block;line-height: 1.2em;}#sk-container-id-2 div.sk-label-container {text-align: center;}#sk-container-id-2 div.sk-container {/* jupyter's `normalize.less` sets `[hidden] { display: none; }` but bootstrap.min.css set `[hidden] { display: none !important; }` so we also need the `!important` here to be able to override the default hidden behavior on the sphinx rendered scikit-learn.org. See: https://github.com/scikit-learn/scikit-learn/issues/21755 */display: inline-block !important;position: relative;}#sk-container-id-2 div.sk-text-repr-fallback {display: none;}</style><div id=\"sk-container-id-2\" class=\"sk-top-container\"><div class=\"sk-text-repr-fallback\"><pre>LogisticRegression()</pre><b>In a Jupyter environment, please rerun this cell to show the HTML representation or trust the notebook. <br />On GitHub, the HTML representation is unable to render, please try loading this page with nbviewer.org.</b></div><div class=\"sk-container\" hidden><div class=\"sk-item\"><div class=\"sk-estimator sk-toggleable\"><input class=\"sk-toggleable__control sk-hidden--visually\" id=\"sk-estimator-id-2\" type=\"checkbox\" checked><label for=\"sk-estimator-id-2\" class=\"sk-toggleable__label sk-toggleable__label-arrow\">LogisticRegression</label><div class=\"sk-toggleable__content\"><pre>LogisticRegression()</pre></div></div></div></div></div>"
            ]
          },
          "metadata": {},
          "execution_count": 136
        }
      ],
      "source": [
        "model = LogisticRegression()\n",
        "model.fit(X_train, y_train)"
      ]
    },
    {
      "cell_type": "code",
      "execution_count": 137,
      "id": "a032e94f",
      "metadata": {
        "colab": {
          "base_uri": "https://localhost:8080/"
        },
        "id": "a032e94f",
        "outputId": "62ed1689-09b4-452e-acf5-b3f643ded785"
      },
      "outputs": [
        {
          "output_type": "stream",
          "name": "stdout",
          "text": [
            "Train Accuracy:0.9566666666666667\n",
            "Test Accuracy:0.8833333333333333\n"
          ]
        }
      ],
      "source": [
        "train_pred = model.predict(X_train)\n",
        "test_pred = model.predict(X_test)\n",
        "print(f\"Train Accuracy:{accuracy_score(y_train, train_pred)}\")\n",
        "print(f\"Test Accuracy:{accuracy_score(y_test, test_pred)}\")"
      ]
    },
    {
      "cell_type": "code",
      "execution_count": 138,
      "id": "d9ee904b",
      "metadata": {
        "id": "d9ee904b"
      },
      "outputs": [],
      "source": [
        "with open(\"count_vect.pkl\", \"wb\") as f:\n",
        "    pickle.dump(vect, f)\n",
        "with open(\"count_vect_lr.pkl\", \"wb\") as f:\n",
        "    pickle.dump(model, f)"
      ]
    },
    {
      "cell_type": "markdown",
      "id": "14c02071",
      "metadata": {
        "id": "14c02071"
      },
      "source": [
        "# N-grams"
      ]
    },
    {
      "cell_type": "code",
      "execution_count": 139,
      "id": "3143daf0",
      "metadata": {
        "id": "3143daf0"
      },
      "outputs": [],
      "source": [
        "vect = CountVectorizer(min_df=5, ngram_range=(1,3))\n",
        "X = vect.fit_transform(clean_reviews)"
      ]
    },
    {
      "cell_type": "code",
      "execution_count": 140,
      "id": "4db855d7",
      "metadata": {
        "colab": {
          "base_uri": "https://localhost:8080/"
        },
        "id": "4db855d7",
        "outputId": "23554f9f-df6c-42b3-947f-0f75000eee80"
      },
      "outputs": [
        {
          "output_type": "execute_result",
          "data": {
            "text/plain": [
              "(1500, 666)"
            ]
          },
          "metadata": {},
          "execution_count": 140
        }
      ],
      "source": [
        "X.shape"
      ]
    },
    {
      "cell_type": "code",
      "execution_count": 141,
      "id": "99e7a226",
      "metadata": {
        "colab": {
          "base_uri": "https://localhost:8080/"
        },
        "id": "99e7a226",
        "outputId": "e96db468-d745-4a9c-ffcb-5cef59c1cf57"
      },
      "outputs": [
        {
          "output_type": "execute_result",
          "data": {
            "text/plain": [
              "{'overal': 425,\n",
              " 'realli': 476,\n",
              " 'amaz': 19,\n",
              " 'app': 29,\n",
              " 've': 625,\n",
              " 'use': 602,\n",
              " 'past': 428,\n",
              " 'year': 661,\n",
              " 'howev': 298,\n",
              " 'one': 415,\n",
              " 'issu': 314,\n",
              " 'though': 579,\n",
              " 'want': 633,\n",
              " 'get': 257,\n",
              " 'sinc': 519,\n",
              " 'think': 578,\n",
              " 'last': 326,\n",
              " 'mani': 372,\n",
              " 'text': 573,\n",
              " 'zoom': 665,\n",
              " 'thought': 580,\n",
              " 'mobil': 385,\n",
              " 'also': 17,\n",
              " 'present': 455,\n",
              " 'websit': 638,\n",
              " 'pleas': 446,\n",
              " 'fix': 237,\n",
              " 'still': 539,\n",
              " 'time': 582,\n",
              " 'export': 219,\n",
              " 'high': 293,\n",
              " 'definit': 155,\n",
              " 'love': 350,\n",
              " 'experi': 217,\n",
              " 'thank': 574,\n",
              " 'realli amaz': 477,\n",
              " 'amaz app': 20,\n",
              " 'app ve': 66,\n",
              " 've use': 628,\n",
              " 'pleas fix': 447,\n",
              " 'gave': 255,\n",
              " 'star': 537,\n",
              " 'rate': 472,\n",
              " 'deserv': 156,\n",
              " 'desktop': 164,\n",
              " 'version': 629,\n",
              " 'satisfi': 499,\n",
              " 'android': 23,\n",
              " 'develop': 166,\n",
              " 'beauti': 86,\n",
              " 'liter': 335,\n",
              " 'find': 231,\n",
              " 'almost': 14,\n",
              " 'everyth': 212,\n",
              " 'need': 395,\n",
              " 'best': 89,\n",
              " 'even': 206,\n",
              " 'without': 645,\n",
              " 'premium': 453,\n",
              " 'featur': 227,\n",
              " 'provid': 466,\n",
              " 'us': 601,\n",
              " 'lot': 346,\n",
              " 'gave star': 256,\n",
              " 'desktop version': 165,\n",
              " 'canva': 117,\n",
              " 'good': 262,\n",
              " 'recent': 487,\n",
              " 'face': 220,\n",
              " 'save': 500,\n",
              " 'file': 230,\n",
              " 'stuck': 542,\n",
              " 'download': 174,\n",
              " 'call': 114,\n",
              " 'magic': 361,\n",
              " 'happen': 283,\n",
              " 'll': 337,\n",
              " 'hope': 297,\n",
              " 'soon': 535,\n",
              " 'good app': 263,\n",
              " 'brilliant': 104,\n",
              " 'problem': 461,\n",
              " 'edit': 191,\n",
              " 'post': 451,\n",
              " 'photo': 436,\n",
              " 'start': 538,\n",
              " '10': 0,\n",
              " 'crash': 143,\n",
              " 'restart': 492,\n",
              " 'sometim': 533,\n",
              " 'go': 261,\n",
              " 'resum': 494,\n",
              " 'back': 81,\n",
              " 'app one': 60,\n",
              " 'app crash': 35,\n",
              " 'great': 274,\n",
              " 'make': 362,\n",
              " 'updat': 598,\n",
              " 'abl': 2,\n",
              " 'chang': 124,\n",
              " 'font': 239,\n",
              " 'style': 546,\n",
              " 'option': 421,\n",
              " 'miss': 384,\n",
              " 'tri': 591,\n",
              " 'uninstal': 597,\n",
              " 'instal': 307,\n",
              " 'nt': 405,\n",
              " 'work': 651,\n",
              " 'far': 224,\n",
              " 'better': 101,\n",
              " 'could': 140,\n",
              " 'great app': 275,\n",
              " 'app use': 65,\n",
              " 'use make': 614,\n",
              " 'nt work': 412,\n",
              " 'first': 234,\n",
              " 'give': 258,\n",
              " 'review': 495,\n",
              " 'creat': 144,\n",
              " 'logo': 340,\n",
              " 'small': 524,\n",
              " 'compani': 133,\n",
              " 'busi': 106,\n",
              " 'data': 153,\n",
              " 'see': 508,\n",
              " 'job': 316,\n",
              " 'app realli': 61,\n",
              " 'realli great': 481,\n",
              " 'first time': 235,\n",
              " 'app great': 49,\n",
              " 'creat logo': 147,\n",
              " 'nt use': 411,\n",
              " 'use app': 603,\n",
              " 'great job': 280,\n",
              " 'basic': 85,\n",
              " 'design': 157,\n",
              " 'well': 639,\n",
              " 'keep': 317,\n",
              " 'take': 558,\n",
              " 'away': 78,\n",
              " 'free': 242,\n",
              " 'put': 468,\n",
              " 'subscript': 548,\n",
              " 'new': 398,\n",
              " 'ad': 9,\n",
              " 'graphic': 271,\n",
              " 'feel': 228,\n",
              " 'price': 457,\n",
              " 'pretti': 456,\n",
              " 'everi': 210,\n",
              " 'day': 154,\n",
              " 'rate star': 473,\n",
              " 'free version': 245,\n",
              " 'month': 388,\n",
              " 'thumbnail': 581,\n",
              " 'banner': 84,\n",
              " 'video': 630,\n",
              " 'watermark': 635,\n",
              " 'look': 345,\n",
              " 'much': 389,\n",
              " 'attract': 73,\n",
              " 'peopl': 431,\n",
              " 'come': 132,\n",
              " 'wonder': 648,\n",
              " 'make thumbnail': 371,\n",
              " 'app mani': 57,\n",
              " 'give star': 259,\n",
              " 'love app': 351,\n",
              " 'app thank': 64,\n",
              " 'wonder app': 649,\n",
              " 'superb': 554,\n",
              " 'user': 621,\n",
              " 'interfac': 309,\n",
              " 'finish': 233,\n",
              " 'awesom': 79,\n",
              " 'paid': 427,\n",
              " 'product': 462,\n",
              " 'like': 331,\n",
              " 'full': 249,\n",
              " 'function': 251,\n",
              " 'kind': 320,\n",
              " 'skill': 521,\n",
              " 'easi': 179,\n",
              " 'user interfac': 623,\n",
              " 'app make': 56,\n",
              " 'easi edit': 182,\n",
              " 'like app': 332,\n",
              " 'thank canva': 575,\n",
              " 'purchas': 467,\n",
              " 'never': 397,\n",
              " 'said': 498,\n",
              " 'check': 127,\n",
              " 'seen': 510,\n",
              " 'pictur': 441,\n",
              " 'wast': 634,\n",
              " 'solv': 531,\n",
              " 'video edit': 631,\n",
              " 'mani time': 378,\n",
              " 'use edit': 607,\n",
              " 'edit design': 193,\n",
              " 'easier': 189,\n",
              " 'tool': 588,\n",
              " 'etc': 205,\n",
              " 'slow': 523,\n",
              " 'load': 338,\n",
              " 'especi': 204,\n",
              " 'stress': 541,\n",
              " 'got': 270,\n",
              " 'wait': 632,\n",
              " 'stuff': 544,\n",
              " 'edit app': 192,\n",
              " 'edit make': 194,\n",
              " 'make edit': 367,\n",
              " 'page': 426,\n",
              " 'went': 640,\n",
              " 'improv': 303,\n",
              " 'disappoint': 170,\n",
              " 'wish': 644,\n",
              " 'close': 130,\n",
              " 'unabl': 594,\n",
              " 'noth': 404,\n",
              " 'unabl save': 595,\n",
              " 'save work': 505,\n",
              " 'help': 287,\n",
              " 'turn': 592,\n",
              " 'art': 71,\n",
              " 'money': 387,\n",
              " 'readi': 475,\n",
              " 'templat': 570,\n",
              " 'friendli': 247,\n",
              " 'poster': 452,\n",
              " 'conveni': 137,\n",
              " 'realli help': 482,\n",
              " 'use templat': 617,\n",
              " 'user friendli': 622,\n",
              " 'easi use': 184,\n",
              " 'slide': 522,\n",
              " 'select': 511,\n",
              " 'frustrat': 248,\n",
              " 'automat': 76,\n",
              " 'anoth': 26,\n",
              " 'ca': 109,\n",
              " 'may': 380,\n",
              " 'show': 514,\n",
              " 'imag': 301,\n",
              " 'done': 171,\n",
              " 'ca nt': 110,\n",
              " 'hate': 286,\n",
              " 'complet': 134,\n",
              " 'background': 82,\n",
              " 'bad': 83,\n",
              " 'far good': 225,\n",
              " 'could nt': 141,\n",
              " 'open': 419,\n",
              " 'let': 329,\n",
              " 'project': 464,\n",
              " 'social': 528,\n",
              " 'media': 381,\n",
              " 'site': 520,\n",
              " 'nt open': 409,\n",
              " 'social media': 529,\n",
              " 'ever': 207,\n",
              " 'anyth': 28,\n",
              " 'glitch': 260,\n",
              " 'it': 315,\n",
              " 'realli good': 479,\n",
              " 've ever': 626,\n",
              " 'ever use': 209,\n",
              " 'realli good app': 480,\n",
              " 've ever use': 627,\n",
              " 'nice': 400,\n",
              " 'add': 10,\n",
              " 'thing': 577,\n",
              " 'remov': 490,\n",
              " 'nice app': 401,\n",
              " 'long': 343,\n",
              " 'connect': 135,\n",
              " 'take long': 560,\n",
              " 'save imag': 502,\n",
              " 'worst': 654,\n",
              " 'lag': 323,\n",
              " 'becom': 87,\n",
              " 'auto': 74,\n",
              " 'team': 566,\n",
              " 'enough': 202,\n",
              " 'take much': 563,\n",
              " 'much time': 391,\n",
              " 'take much time': 564,\n",
              " 'say': 506,\n",
              " 'pro': 459,\n",
              " 'alot': 15,\n",
              " 'low': 359,\n",
              " 'app keep': 51,\n",
              " 'pro version': 460,\n",
              " 'take lot': 561,\n",
              " 'lot time': 349,\n",
              " 'time load': 583,\n",
              " 'take lot time': 562,\n",
              " 'fantast': 222,\n",
              " 'applic': 68,\n",
              " 'happi': 284,\n",
              " 'photo edit': 437,\n",
              " 'youtub': 663,\n",
              " 'app logo': 53,\n",
              " 'logo thumbnail': 342,\n",
              " 'app app': 31,\n",
              " 'app good': 46,\n",
              " 'someth': 532,\n",
              " 'perfect': 432,\n",
              " 'beginn': 88,\n",
              " 're': 474,\n",
              " 'right': 496,\n",
              " 'cool': 138,\n",
              " 'realli easi': 478,\n",
              " 'annoy': 25,\n",
              " 'share': 513,\n",
              " 'mode': 386,\n",
              " 'galleri': 253,\n",
              " 'log': 339,\n",
              " 'app save': 62,\n",
              " 'awesom app': 80,\n",
              " 'alway': 18,\n",
              " 'card': 123,\n",
              " 'advertis': 11,\n",
              " 'busi card': 107,\n",
              " 'interest': 308,\n",
              " 'differ': 168,\n",
              " 'help make': 292,\n",
              " 'creator': 150,\n",
              " 'one best': 416,\n",
              " 'best photo': 100,\n",
              " 'use get': 610,\n",
              " 'mani design': 373,\n",
              " 'design templat': 163,\n",
              " 'recommend': 488,\n",
              " 'everyon': 211,\n",
              " 'use use': 619,\n",
              " 'nt save': 410,\n",
              " 'save time': 504,\n",
              " 'total': 590,\n",
              " 'would': 657,\n",
              " 'plz': 448,\n",
              " 'small busi': 525,\n",
              " 'place': 443,\n",
              " 'creativ': 149,\n",
              " 'play': 445,\n",
              " 'mani templat': 376,\n",
              " 'life': 330,\n",
              " 'profession': 463,\n",
              " 'properli': 465,\n",
              " 'fantast app': 223,\n",
              " 'app love': 55,\n",
              " 'servic': 512,\n",
              " 'qualiti': 469,\n",
              " 'offer': 413,\n",
              " 'canva best': 119,\n",
              " 'best app': 90,\n",
              " 'high qualiti': 294,\n",
              " 'canva best app': 120,\n",
              " 'custom': 151,\n",
              " 'ca nt use': 113,\n",
              " 'incred': 304,\n",
              " 'phone': 435,\n",
              " 'impress': 302,\n",
              " 'easili': 190,\n",
              " 'intuit': 312,\n",
              " 'design app': 158,\n",
              " 'realli like': 483,\n",
              " 'free option': 243,\n",
              " 'use mani': 615,\n",
              " 'mani free': 374,\n",
              " 'easi use mani': 187,\n",
              " 'best edit': 97,\n",
              " 'afford': 12,\n",
              " 'use lot': 612,\n",
              " 'lot free': 348,\n",
              " 'absolut': 3,\n",
              " 'absolut love': 4,\n",
              " 'love canva': 354,\n",
              " 'make design': 365,\n",
              " 'choos': 128,\n",
              " 'person': 434,\n",
              " 'yet': 662,\n",
              " 'made': 360,\n",
              " 'know': 322,\n",
              " 'other': 423,\n",
              " 'use canva': 604,\n",
              " 'use free': 608,\n",
              " 'graphic design': 272,\n",
              " 'make app': 363,\n",
              " 'write': 659,\n",
              " 'app edit': 41,\n",
              " 'tell': 569,\n",
              " 'wrong': 660,\n",
              " 'less': 328,\n",
              " 'idea': 299,\n",
              " 'app easi': 39,\n",
              " 'app easi use': 40,\n",
              " 'canva app': 118,\n",
              " 'varieti': 624,\n",
              " 'love easi': 355,\n",
              " 'great app love': 277,\n",
              " 'love easi use': 356,\n",
              " 'im': 300,\n",
              " 'great app easi': 276,\n",
              " 'requir': 491,\n",
              " 'payment': 430,\n",
              " 'download design': 176,\n",
              " 'app lot': 54,\n",
              " 'free templat': 244,\n",
              " 'simpl': 516,\n",
              " 'lot featur': 347,\n",
              " 'laptop': 325,\n",
              " 'fun': 250,\n",
              " 'perfectli': 433,\n",
              " 'pl': 442,\n",
              " 'save design': 501,\n",
              " 'platform': 444,\n",
              " 'way': 636,\n",
              " 'app ever': 42,\n",
              " 'one best app': 417,\n",
              " 'best app ever': 93,\n",
              " 'app ever use': 43,\n",
              " 'super': 551,\n",
              " 'cover': 142,\n",
              " 'cool app': 139,\n",
              " 'edit photo': 195,\n",
              " 'love templat': 357,\n",
              " 'end': 200,\n",
              " 'result': 493,\n",
              " 'sure': 556,\n",
              " 'anyon': 27,\n",
              " 'app design': 37,\n",
              " 'make present': 370,\n",
              " 'creat design': 146,\n",
              " 'content': 136,\n",
              " 'great design': 278,\n",
              " 'easi use lot': 186,\n",
              " 'anim': 24,\n",
              " 'templat easi': 572,\n",
              " 'error': 203,\n",
              " 'technic': 567,\n",
              " 'technic issu': 568,\n",
              " 'instagram': 306,\n",
              " 'make easi': 366,\n",
              " 'absolut love app': 5,\n",
              " 'softwar': 530,\n",
              " 'youtub thumbnail': 664,\n",
              " 'easi creat': 180,\n",
              " 'time use': 585,\n",
              " 'first time use': 236,\n",
              " 'subscrib': 547,\n",
              " 'help lot': 291,\n",
              " 'auto save': 75,\n",
              " 'photo video': 438,\n",
              " 'fast': 226,\n",
              " 'internet': 310,\n",
              " 'pay': 429,\n",
              " 'allow': 13,\n",
              " 'best design': 95,\n",
              " 'editor': 197,\n",
              " 'feel like': 229,\n",
              " 'stori': 540,\n",
              " 'must': 393,\n",
              " 'best app edit': 92,\n",
              " 'world': 653,\n",
              " 'hang': 282,\n",
              " 'long time': 344,\n",
              " 'channel': 125,\n",
              " 'birthday': 102,\n",
              " 'facebook': 221,\n",
              " 'design best': 159,\n",
              " 'flyer': 238,\n",
              " 'use creat': 605,\n",
              " 'suck': 549,\n",
              " 'open app': 420,\n",
              " 'charg': 126,\n",
              " 'student': 543,\n",
              " 'simpl use': 517,\n",
              " 'app graphic': 47,\n",
              " 'design logo': 161,\n",
              " 'app graphic design': 48,\n",
              " 'learn': 327,\n",
              " 'seem': 509,\n",
              " 'use love': 613,\n",
              " 'school': 507,\n",
              " 'bit': 103,\n",
              " 'otherwis': 424,\n",
              " 'app creat': 36,\n",
              " 'excel': 214,\n",
              " 'smoothli': 527,\n",
              " 'download video': 177,\n",
              " 'top': 589,\n",
              " 'click': 129,\n",
              " 'bug': 105,\n",
              " 'cant': 116,\n",
              " 'save project': 503,\n",
              " 'nt even': 407,\n",
              " 'access': 6,\n",
              " 'onlin': 418,\n",
              " 'quick': 470,\n",
              " 'thank much': 576,\n",
              " 'difficult': 169,\n",
              " 'ton': 586,\n",
              " 'good app design': 264,\n",
              " 'app design logo': 38,\n",
              " 'use great': 611,\n",
              " 'love app easi': 352,\n",
              " 'easi use great': 185,\n",
              " 'smooth': 526,\n",
              " 'good work': 268,\n",
              " 'friend': 246,\n",
              " 'market': 379,\n",
              " 'app best': 34,\n",
              " 'logo design': 341,\n",
              " 'creat mani': 148,\n",
              " 'easi design': 181,\n",
              " 'design easi': 160,\n",
              " 'network': 396,\n",
              " 'cancel': 115,\n",
              " 'avail': 77,\n",
              " 'make banner': 364,\n",
              " 'help app': 288,\n",
              " 'game': 254,\n",
              " 'super easi': 552,\n",
              " 'use design': 606,\n",
              " 'super easi use': 553,\n",
              " 'best graphic': 98,\n",
              " 'best graphic design': 99,\n",
              " 'graphic design app': 273,\n",
              " 'offlin': 414,\n",
              " 'fine': 232,\n",
              " 'experienc': 218,\n",
              " 'nt download': 406,\n",
              " 'ca nt download': 111,\n",
              " 'photoshop': 439,\n",
              " 'wo': 646,\n",
              " 'googl': 269,\n",
              " 'account': 7,\n",
              " 'wo nt': 647,\n",
              " 'special': 536,\n",
              " 'app help': 50,\n",
              " 'realli like app': 484,\n",
              " 'design need': 162,\n",
              " 'use realli': 616,\n",
              " 'easi use realli': 188,\n",
              " 'aap': 1,\n",
              " 'print': 458,\n",
              " 'option edit': 422,\n",
              " 'navig': 394,\n",
              " 'invit': 313,\n",
              " 'recommend app': 489,\n",
              " 'enjoy': 201,\n",
              " 'suggest': 550,\n",
              " 'realli love': 485,\n",
              " 'realli love app': 486,\n",
              " 'understand': 596,\n",
              " 'ca nt save': 112,\n",
              " 'useless': 620,\n",
              " 'app take': 63,\n",
              " 'insta': 305,\n",
              " 'nice app edit': 402,\n",
              " 'love use': 358,\n",
              " 'app first': 45,\n",
              " 'edit pictur': 196,\n",
              " 'line': 334,\n",
              " 'type': 593,\n",
              " 'due': 178,\n",
              " 'whatev': 641,\n",
              " 'highli': 295,\n",
              " 'highli recommend': 296,\n",
              " 'collag': 131,\n",
              " 'good app make': 265,\n",
              " 'found': 241,\n",
              " 'doubt': 173,\n",
              " 'use full': 609,\n",
              " 'effect': 198,\n",
              " 'mani option': 375,\n",
              " 'help design': 290,\n",
              " 'good applic': 266,\n",
              " 'applic edit': 69,\n",
              " 'email': 199,\n",
              " 'quit': 471,\n",
              " 'app work': 67,\n",
              " 'hard': 285,\n",
              " 'wow': 658,\n",
              " 'new updat': 399,\n",
              " 'app beginn': 33,\n",
              " 'best design app': 96,\n",
              " 'time save': 584,\n",
              " 'much time save': 392,\n",
              " 'wifi': 643,\n",
              " 'app nt': 59,\n",
              " 'ask': 72,\n",
              " 'daili': 152,\n",
              " 'run': 497,\n",
              " 'limit': 333,\n",
              " 'guy': 281,\n",
              " 'amaz design': 22,\n",
              " 'soo': 534,\n",
              " 'app amaz': 30,\n",
              " 'everytim': 213,\n",
              " 'forev': 240,\n",
              " 'take forev': 559,\n",
              " 'make logo': 368,\n",
              " 'simpli': 518,\n",
              " 'word': 650,\n",
              " 'worth': 656,\n",
              " 'took': 587,\n",
              " 'prepar': 454,\n",
              " 'minut': 383,\n",
              " 'except': 216,\n",
              " 'app everyth': 44,\n",
              " 'canva pro': 121,\n",
              " 'nice easi': 403,\n",
              " 'work properli': 652,\n",
              " 'actual': 8,\n",
              " 'mind': 382,\n",
              " 'best app design': 91,\n",
              " 'upgrad': 599,\n",
              " 'amaz applic': 21,\n",
              " 'nt know': 408,\n",
              " 'kindli': 321,\n",
              " 'stun': 545,\n",
              " 'pic': 440,\n",
              " 'take time': 565,\n",
              " 'futur': 252,\n",
              " 'canva team': 122,\n",
              " 'excel app': 215,\n",
              " 'appreci': 70,\n",
              " 'easi make': 183,\n",
              " 'sign': 515,\n",
              " 'alreadi': 16,\n",
              " 'internet connect': 311,\n",
              " 'best app use': 94,\n",
              " 'use thank': 618,\n",
              " 'laggi': 324,\n",
              " 'buy': 108,\n",
              " 'creat canva': 145,\n",
              " 'good design': 267,\n",
              " 'love app help': 353,\n",
              " 'mani thing': 377,\n",
              " 'make poster': 369,\n",
              " 'ever seen': 208,\n",
              " 'app much': 58,\n",
              " 'much better': 390,\n",
              " 'download app': 175,\n",
              " 'upload': 600,\n",
              " 'dont': 172,\n",
              " 'templat design': 571,\n",
              " 'wide': 642,\n",
              " 'help creat': 289,\n",
              " 'app like': 52,\n",
              " 'littl': 336,\n",
              " 'web': 637,\n",
              " 'devic': 167,\n",
              " 'app awesom': 32,\n",
              " 'great easi': 279,\n",
              " 'poor': 449,\n",
              " 'superb app': 555,\n",
              " 'possibl': 450,\n",
              " 'tablet': 557,\n",
              " 'keep good': 318,\n",
              " 'keep good work': 319,\n",
              " 'worst app': 655}"
            ]
          },
          "metadata": {},
          "execution_count": 141
        }
      ],
      "source": [
        "vect.vocabulary_"
      ]
    },
    {
      "cell_type": "code",
      "execution_count": 142,
      "id": "25c98ea8",
      "metadata": {
        "id": "25c98ea8"
      },
      "outputs": [],
      "source": [
        "X_train, X_test, y_train, y_test = train_test_split(X, y, test_size=0.2,\n",
        "                                                   stratify=y, random_state=42)"
      ]
    },
    {
      "cell_type": "code",
      "execution_count": 143,
      "id": "87365566",
      "metadata": {
        "colab": {
          "base_uri": "https://localhost:8080/",
          "height": 74
        },
        "id": "87365566",
        "outputId": "93c85b59-9ffa-41d9-bc4c-b3ea3a96535a"
      },
      "outputs": [
        {
          "output_type": "execute_result",
          "data": {
            "text/plain": [
              "LogisticRegression()"
            ],
            "text/html": [
              "<style>#sk-container-id-3 {color: black;background-color: white;}#sk-container-id-3 pre{padding: 0;}#sk-container-id-3 div.sk-toggleable {background-color: white;}#sk-container-id-3 label.sk-toggleable__label {cursor: pointer;display: block;width: 100%;margin-bottom: 0;padding: 0.3em;box-sizing: border-box;text-align: center;}#sk-container-id-3 label.sk-toggleable__label-arrow:before {content: \"▸\";float: left;margin-right: 0.25em;color: #696969;}#sk-container-id-3 label.sk-toggleable__label-arrow:hover:before {color: black;}#sk-container-id-3 div.sk-estimator:hover label.sk-toggleable__label-arrow:before {color: black;}#sk-container-id-3 div.sk-toggleable__content {max-height: 0;max-width: 0;overflow: hidden;text-align: left;background-color: #f0f8ff;}#sk-container-id-3 div.sk-toggleable__content pre {margin: 0.2em;color: black;border-radius: 0.25em;background-color: #f0f8ff;}#sk-container-id-3 input.sk-toggleable__control:checked~div.sk-toggleable__content {max-height: 200px;max-width: 100%;overflow: auto;}#sk-container-id-3 input.sk-toggleable__control:checked~label.sk-toggleable__label-arrow:before {content: \"▾\";}#sk-container-id-3 div.sk-estimator input.sk-toggleable__control:checked~label.sk-toggleable__label {background-color: #d4ebff;}#sk-container-id-3 div.sk-label input.sk-toggleable__control:checked~label.sk-toggleable__label {background-color: #d4ebff;}#sk-container-id-3 input.sk-hidden--visually {border: 0;clip: rect(1px 1px 1px 1px);clip: rect(1px, 1px, 1px, 1px);height: 1px;margin: -1px;overflow: hidden;padding: 0;position: absolute;width: 1px;}#sk-container-id-3 div.sk-estimator {font-family: monospace;background-color: #f0f8ff;border: 1px dotted black;border-radius: 0.25em;box-sizing: border-box;margin-bottom: 0.5em;}#sk-container-id-3 div.sk-estimator:hover {background-color: #d4ebff;}#sk-container-id-3 div.sk-parallel-item::after {content: \"\";width: 100%;border-bottom: 1px solid gray;flex-grow: 1;}#sk-container-id-3 div.sk-label:hover label.sk-toggleable__label {background-color: #d4ebff;}#sk-container-id-3 div.sk-serial::before {content: \"\";position: absolute;border-left: 1px solid gray;box-sizing: border-box;top: 0;bottom: 0;left: 50%;z-index: 0;}#sk-container-id-3 div.sk-serial {display: flex;flex-direction: column;align-items: center;background-color: white;padding-right: 0.2em;padding-left: 0.2em;position: relative;}#sk-container-id-3 div.sk-item {position: relative;z-index: 1;}#sk-container-id-3 div.sk-parallel {display: flex;align-items: stretch;justify-content: center;background-color: white;position: relative;}#sk-container-id-3 div.sk-item::before, #sk-container-id-3 div.sk-parallel-item::before {content: \"\";position: absolute;border-left: 1px solid gray;box-sizing: border-box;top: 0;bottom: 0;left: 50%;z-index: -1;}#sk-container-id-3 div.sk-parallel-item {display: flex;flex-direction: column;z-index: 1;position: relative;background-color: white;}#sk-container-id-3 div.sk-parallel-item:first-child::after {align-self: flex-end;width: 50%;}#sk-container-id-3 div.sk-parallel-item:last-child::after {align-self: flex-start;width: 50%;}#sk-container-id-3 div.sk-parallel-item:only-child::after {width: 0;}#sk-container-id-3 div.sk-dashed-wrapped {border: 1px dashed gray;margin: 0 0.4em 0.5em 0.4em;box-sizing: border-box;padding-bottom: 0.4em;background-color: white;}#sk-container-id-3 div.sk-label label {font-family: monospace;font-weight: bold;display: inline-block;line-height: 1.2em;}#sk-container-id-3 div.sk-label-container {text-align: center;}#sk-container-id-3 div.sk-container {/* jupyter's `normalize.less` sets `[hidden] { display: none; }` but bootstrap.min.css set `[hidden] { display: none !important; }` so we also need the `!important` here to be able to override the default hidden behavior on the sphinx rendered scikit-learn.org. See: https://github.com/scikit-learn/scikit-learn/issues/21755 */display: inline-block !important;position: relative;}#sk-container-id-3 div.sk-text-repr-fallback {display: none;}</style><div id=\"sk-container-id-3\" class=\"sk-top-container\"><div class=\"sk-text-repr-fallback\"><pre>LogisticRegression()</pre><b>In a Jupyter environment, please rerun this cell to show the HTML representation or trust the notebook. <br />On GitHub, the HTML representation is unable to render, please try loading this page with nbviewer.org.</b></div><div class=\"sk-container\" hidden><div class=\"sk-item\"><div class=\"sk-estimator sk-toggleable\"><input class=\"sk-toggleable__control sk-hidden--visually\" id=\"sk-estimator-id-3\" type=\"checkbox\" checked><label for=\"sk-estimator-id-3\" class=\"sk-toggleable__label sk-toggleable__label-arrow\">LogisticRegression</label><div class=\"sk-toggleable__content\"><pre>LogisticRegression()</pre></div></div></div></div></div>"
            ]
          },
          "metadata": {},
          "execution_count": 143
        }
      ],
      "source": [
        "model = LogisticRegression()\n",
        "model.fit(X_train, y_train)"
      ]
    },
    {
      "cell_type": "code",
      "execution_count": 144,
      "id": "300c4a26",
      "metadata": {
        "colab": {
          "base_uri": "https://localhost:8080/"
        },
        "id": "300c4a26",
        "outputId": "7cb365c7-a275-4a29-928b-3b9c3f886995"
      },
      "outputs": [
        {
          "output_type": "stream",
          "name": "stdout",
          "text": [
            "Train Accuracy:0.9716666666666667\n",
            "Test Accuracy:0.8933333333333333\n"
          ]
        }
      ],
      "source": [
        "train_pred = model.predict(X_train)\n",
        "test_pred = model.predict(X_test)\n",
        "print(f\"Train Accuracy:{accuracy_score(y_train, train_pred)}\")\n",
        "print(f\"Test Accuracy:{accuracy_score(y_test, test_pred)}\")"
      ]
    },
    {
      "cell_type": "code",
      "execution_count": 145,
      "id": "95d7e794",
      "metadata": {
        "id": "95d7e794"
      },
      "outputs": [],
      "source": [
        "with open(\"n_gram.pkl\", \"wb\") as f:\n",
        "    pickle.dump(vect, f)\n",
        "with open(\"n_gram_lr.pkl\", \"wb\") as f:\n",
        "    pickle.dump(model, f)"
      ]
    },
    {
      "cell_type": "markdown",
      "id": "d7628808",
      "metadata": {
        "id": "d7628808"
      },
      "source": [
        "# TF-IDF"
      ]
    },
    {
      "cell_type": "code",
      "execution_count": 146,
      "id": "6219f56c",
      "metadata": {
        "id": "6219f56c"
      },
      "outputs": [],
      "source": [
        "vect = TfidfVectorizer(min_df=5)"
      ]
    },
    {
      "cell_type": "code",
      "execution_count": 147,
      "id": "f10d308c",
      "metadata": {
        "id": "f10d308c"
      },
      "outputs": [],
      "source": [
        "X = vect.fit_transform(clean_reviews)"
      ]
    },
    {
      "cell_type": "code",
      "execution_count": 148,
      "id": "20cbd328",
      "metadata": {
        "colab": {
          "base_uri": "https://localhost:8080/"
        },
        "id": "20cbd328",
        "outputId": "5c1d8574-b801-4a6f-820a-dd48f85e266b"
      },
      "outputs": [
        {
          "output_type": "execute_result",
          "data": {
            "text/plain": [
              "(1500, 413)"
            ]
          },
          "metadata": {},
          "execution_count": 148
        }
      ],
      "source": [
        "X.shape"
      ]
    },
    {
      "cell_type": "code",
      "execution_count": 149,
      "id": "9f8ce389",
      "metadata": {
        "id": "9f8ce389"
      },
      "outputs": [],
      "source": [
        "X_train, X_test, y_train, y_test = train_test_split(X, y, test_size=0.2,\n",
        "                                                   stratify=y, random_state=42)"
      ]
    },
    {
      "cell_type": "code",
      "execution_count": 150,
      "id": "4bc8a891",
      "metadata": {
        "colab": {
          "base_uri": "https://localhost:8080/",
          "height": 74
        },
        "id": "4bc8a891",
        "outputId": "da47a6f5-fa02-4a44-aed6-675de4a5bd25"
      },
      "outputs": [
        {
          "output_type": "execute_result",
          "data": {
            "text/plain": [
              "LogisticRegression()"
            ],
            "text/html": [
              "<style>#sk-container-id-4 {color: black;background-color: white;}#sk-container-id-4 pre{padding: 0;}#sk-container-id-4 div.sk-toggleable {background-color: white;}#sk-container-id-4 label.sk-toggleable__label {cursor: pointer;display: block;width: 100%;margin-bottom: 0;padding: 0.3em;box-sizing: border-box;text-align: center;}#sk-container-id-4 label.sk-toggleable__label-arrow:before {content: \"▸\";float: left;margin-right: 0.25em;color: #696969;}#sk-container-id-4 label.sk-toggleable__label-arrow:hover:before {color: black;}#sk-container-id-4 div.sk-estimator:hover label.sk-toggleable__label-arrow:before {color: black;}#sk-container-id-4 div.sk-toggleable__content {max-height: 0;max-width: 0;overflow: hidden;text-align: left;background-color: #f0f8ff;}#sk-container-id-4 div.sk-toggleable__content pre {margin: 0.2em;color: black;border-radius: 0.25em;background-color: #f0f8ff;}#sk-container-id-4 input.sk-toggleable__control:checked~div.sk-toggleable__content {max-height: 200px;max-width: 100%;overflow: auto;}#sk-container-id-4 input.sk-toggleable__control:checked~label.sk-toggleable__label-arrow:before {content: \"▾\";}#sk-container-id-4 div.sk-estimator input.sk-toggleable__control:checked~label.sk-toggleable__label {background-color: #d4ebff;}#sk-container-id-4 div.sk-label input.sk-toggleable__control:checked~label.sk-toggleable__label {background-color: #d4ebff;}#sk-container-id-4 input.sk-hidden--visually {border: 0;clip: rect(1px 1px 1px 1px);clip: rect(1px, 1px, 1px, 1px);height: 1px;margin: -1px;overflow: hidden;padding: 0;position: absolute;width: 1px;}#sk-container-id-4 div.sk-estimator {font-family: monospace;background-color: #f0f8ff;border: 1px dotted black;border-radius: 0.25em;box-sizing: border-box;margin-bottom: 0.5em;}#sk-container-id-4 div.sk-estimator:hover {background-color: #d4ebff;}#sk-container-id-4 div.sk-parallel-item::after {content: \"\";width: 100%;border-bottom: 1px solid gray;flex-grow: 1;}#sk-container-id-4 div.sk-label:hover label.sk-toggleable__label {background-color: #d4ebff;}#sk-container-id-4 div.sk-serial::before {content: \"\";position: absolute;border-left: 1px solid gray;box-sizing: border-box;top: 0;bottom: 0;left: 50%;z-index: 0;}#sk-container-id-4 div.sk-serial {display: flex;flex-direction: column;align-items: center;background-color: white;padding-right: 0.2em;padding-left: 0.2em;position: relative;}#sk-container-id-4 div.sk-item {position: relative;z-index: 1;}#sk-container-id-4 div.sk-parallel {display: flex;align-items: stretch;justify-content: center;background-color: white;position: relative;}#sk-container-id-4 div.sk-item::before, #sk-container-id-4 div.sk-parallel-item::before {content: \"\";position: absolute;border-left: 1px solid gray;box-sizing: border-box;top: 0;bottom: 0;left: 50%;z-index: -1;}#sk-container-id-4 div.sk-parallel-item {display: flex;flex-direction: column;z-index: 1;position: relative;background-color: white;}#sk-container-id-4 div.sk-parallel-item:first-child::after {align-self: flex-end;width: 50%;}#sk-container-id-4 div.sk-parallel-item:last-child::after {align-self: flex-start;width: 50%;}#sk-container-id-4 div.sk-parallel-item:only-child::after {width: 0;}#sk-container-id-4 div.sk-dashed-wrapped {border: 1px dashed gray;margin: 0 0.4em 0.5em 0.4em;box-sizing: border-box;padding-bottom: 0.4em;background-color: white;}#sk-container-id-4 div.sk-label label {font-family: monospace;font-weight: bold;display: inline-block;line-height: 1.2em;}#sk-container-id-4 div.sk-label-container {text-align: center;}#sk-container-id-4 div.sk-container {/* jupyter's `normalize.less` sets `[hidden] { display: none; }` but bootstrap.min.css set `[hidden] { display: none !important; }` so we also need the `!important` here to be able to override the default hidden behavior on the sphinx rendered scikit-learn.org. See: https://github.com/scikit-learn/scikit-learn/issues/21755 */display: inline-block !important;position: relative;}#sk-container-id-4 div.sk-text-repr-fallback {display: none;}</style><div id=\"sk-container-id-4\" class=\"sk-top-container\"><div class=\"sk-text-repr-fallback\"><pre>LogisticRegression()</pre><b>In a Jupyter environment, please rerun this cell to show the HTML representation or trust the notebook. <br />On GitHub, the HTML representation is unable to render, please try loading this page with nbviewer.org.</b></div><div class=\"sk-container\" hidden><div class=\"sk-item\"><div class=\"sk-estimator sk-toggleable\"><input class=\"sk-toggleable__control sk-hidden--visually\" id=\"sk-estimator-id-4\" type=\"checkbox\" checked><label for=\"sk-estimator-id-4\" class=\"sk-toggleable__label sk-toggleable__label-arrow\">LogisticRegression</label><div class=\"sk-toggleable__content\"><pre>LogisticRegression()</pre></div></div></div></div></div>"
            ]
          },
          "metadata": {},
          "execution_count": 150
        }
      ],
      "source": [
        "model = LogisticRegression()\n",
        "model.fit(X_train, y_train)"
      ]
    },
    {
      "cell_type": "code",
      "execution_count": 151,
      "id": "7a56989b",
      "metadata": {
        "colab": {
          "base_uri": "https://localhost:8080/"
        },
        "id": "7a56989b",
        "outputId": "38a8fe66-4ad2-415d-8b4c-285a4c62145e"
      },
      "outputs": [
        {
          "output_type": "stream",
          "name": "stdout",
          "text": [
            "Train Accuracy:0.935\n",
            "Test Accuracy:0.8766666666666667\n"
          ]
        }
      ],
      "source": [
        "train_pred = model.predict(X_train)\n",
        "test_pred = model.predict(X_test)\n",
        "print(f\"Train Accuracy:{accuracy_score(y_train, train_pred)}\")\n",
        "print(f\"Test Accuracy:{accuracy_score(y_test, test_pred)}\")"
      ]
    },
    {
      "cell_type": "code",
      "execution_count": 152,
      "id": "a73fcb8e",
      "metadata": {
        "id": "a73fcb8e"
      },
      "outputs": [],
      "source": [
        "with open(\"tf-idf.pkl\", \"wb\") as f:\n",
        "    pickle.dump(vect, f)\n",
        "with open(\"tf-idf_lr.pkl\", \"wb\") as f:\n",
        "    pickle.dump(model, f)"
      ]
    },
    {
      "cell_type": "markdown",
      "id": "df34e89d",
      "metadata": {
        "id": "df34e89d"
      },
      "source": [
        "# Predictions for new reviews"
      ]
    },
    {
      "cell_type": "code",
      "execution_count": 153,
      "id": "863509a4",
      "metadata": {
        "id": "863509a4"
      },
      "outputs": [],
      "source": [
        "# Sample test reviews\n",
        "test_review_1 = '''this is a truly amazing app , best for those who havw\n",
        "content but don't know how to express it in a good and shareable manner.\n",
        "Thanks Team Canva for such a great app.'''\n",
        "test_review_2 = '''Its the worst app ever I save my design lts not save'''"
      ]
    },
    {
      "cell_type": "markdown",
      "id": "a223e782",
      "metadata": {
        "id": "a223e782"
      },
      "source": [
        "### Load the best model (n-gram) and its vectorizer"
      ]
    },
    {
      "cell_type": "code",
      "execution_count": 154,
      "id": "7d4625ae",
      "metadata": {
        "id": "7d4625ae"
      },
      "outputs": [],
      "source": [
        "vect = pickle.load(open(\"n_gram.pkl\", \"rb\"))\n",
        "model = pickle.load(open(\"n_gram_lr.pkl\", \"rb\"))"
      ]
    },
    {
      "cell_type": "markdown",
      "id": "feea92ad",
      "metadata": {
        "id": "feea92ad"
      },
      "source": [
        "### Convert the reivews to a batch of one record"
      ]
    },
    {
      "cell_type": "code",
      "execution_count": 155,
      "id": "49dd7a36",
      "metadata": {
        "id": "49dd7a36"
      },
      "outputs": [],
      "source": [
        "test_review_1 = [test_review_1]\n",
        "test_review_2 = [test_review_2]"
      ]
    },
    {
      "cell_type": "markdown",
      "id": "c0a5d190",
      "metadata": {
        "id": "c0a5d190"
      },
      "source": [
        "### Convert the text to lower case"
      ]
    },
    {
      "cell_type": "code",
      "execution_count": 156,
      "id": "ee67462f",
      "metadata": {
        "id": "ee67462f"
      },
      "outputs": [],
      "source": [
        "test_review_1 = [r.lower() for r in test_review_1]\n",
        "test_review_2 = [r.lower() for r in test_review_2]"
      ]
    },
    {
      "cell_type": "markdown",
      "id": "aa34e36b",
      "metadata": {
        "id": "aa34e36b"
      },
      "source": [
        "### Tokenize the text"
      ]
    },
    {
      "cell_type": "code",
      "execution_count": 157,
      "id": "51045f0b",
      "metadata": {
        "id": "51045f0b"
      },
      "outputs": [],
      "source": [
        "tokens_1 = [word_tokenize(r) for r in test_review_1]\n",
        "tokens_2 = [word_tokenize(r) for r in test_review_2]"
      ]
    },
    {
      "cell_type": "markdown",
      "id": "77ed8cc4",
      "metadata": {
        "id": "77ed8cc4"
      },
      "source": [
        "### Remove stopwords"
      ]
    },
    {
      "cell_type": "code",
      "execution_count": 158,
      "id": "6c11529d",
      "metadata": {
        "id": "6c11529d"
      },
      "outputs": [],
      "source": [
        "tokens_1 = [[word for word in t if word not in sw] for t in tokens_1]\n",
        "tokens_2 = [[word for word in t if word not in sw] for t in tokens_2]"
      ]
    },
    {
      "cell_type": "markdown",
      "id": "20a9c33b",
      "metadata": {
        "id": "20a9c33b"
      },
      "source": [
        "### Remove punctuations"
      ]
    },
    {
      "cell_type": "code",
      "execution_count": 159,
      "id": "b7d47ba1",
      "metadata": {
        "id": "b7d47ba1"
      },
      "outputs": [],
      "source": [
        "tokens_1 = [[\"\".join(tokenizer.tokenize(word)) for word in t\n",
        "             if len(tokenizer.tokenize(word))>0] for t in tokens_1]\n",
        "tokens_2 = [[\"\".join(tokenizer.tokenize(word)) for word in t\n",
        "             if len(tokenizer.tokenize(word))>0] for t in tokens_2]"
      ]
    },
    {
      "cell_type": "markdown",
      "id": "b7490df2",
      "metadata": {
        "id": "b7490df2"
      },
      "source": [
        "### Stemming"
      ]
    },
    {
      "cell_type": "code",
      "execution_count": 160,
      "id": "7210f34b",
      "metadata": {
        "id": "7210f34b"
      },
      "outputs": [],
      "source": [
        "tokens_1 = [[porter.stem(word) for word in t] for t in tokens_1]\n",
        "tokens_2 = [[porter.stem(word) for word in t] for t in tokens_2]"
      ]
    },
    {
      "cell_type": "code",
      "execution_count": 161,
      "id": "b17a5547",
      "metadata": {
        "colab": {
          "base_uri": "https://localhost:8080/"
        },
        "id": "b17a5547",
        "outputId": "071e4c2d-3946-4432-c51e-be9e5647326c"
      },
      "outputs": [
        {
          "output_type": "execute_result",
          "data": {
            "text/plain": [
              "[['truli',\n",
              "  'amaz',\n",
              "  'app',\n",
              "  'best',\n",
              "  'havw',\n",
              "  'content',\n",
              "  'nt',\n",
              "  'know',\n",
              "  'express',\n",
              "  'good',\n",
              "  'shareabl',\n",
              "  'manner',\n",
              "  'thank',\n",
              "  'team',\n",
              "  'canva',\n",
              "  'great',\n",
              "  'app']]"
            ]
          },
          "metadata": {},
          "execution_count": 161
        }
      ],
      "source": [
        "tokens_1"
      ]
    },
    {
      "cell_type": "code",
      "execution_count": 162,
      "id": "fcad87cc",
      "metadata": {
        "colab": {
          "base_uri": "https://localhost:8080/"
        },
        "id": "fcad87cc",
        "outputId": "6ccf6616-29ee-4ae9-9905-601fbb9ac9ea"
      },
      "outputs": [
        {
          "output_type": "execute_result",
          "data": {
            "text/plain": [
              "[\"this is a truly amazing app , best for those who havw \\ncontent but don't know how to express it in a good and shareable manner. \\nthanks team canva for such a great app.\"]"
            ]
          },
          "metadata": {},
          "execution_count": 162
        }
      ],
      "source": [
        "test_review_1"
      ]
    },
    {
      "cell_type": "code",
      "execution_count": 163,
      "id": "9726e122",
      "metadata": {
        "colab": {
          "base_uri": "https://localhost:8080/"
        },
        "id": "9726e122",
        "outputId": "c04765f7-ed31-4223-cf32-ae4053d78aac"
      },
      "outputs": [
        {
          "output_type": "execute_result",
          "data": {
            "text/plain": [
              "[['worst', 'app', 'ever', 'save', 'design', 'lt', 'save']]"
            ]
          },
          "metadata": {},
          "execution_count": 163
        }
      ],
      "source": [
        "tokens_2"
      ]
    },
    {
      "cell_type": "code",
      "execution_count": 164,
      "id": "fee6f1ab",
      "metadata": {
        "colab": {
          "base_uri": "https://localhost:8080/"
        },
        "id": "fee6f1ab",
        "outputId": "9b26d3e1-b372-4fea-b755-ce34ca0d3b9e"
      },
      "outputs": [
        {
          "output_type": "execute_result",
          "data": {
            "text/plain": [
              "['its the worst app ever i save my design lts not save']"
            ]
          },
          "metadata": {},
          "execution_count": 164
        }
      ],
      "source": [
        "test_review_2"
      ]
    },
    {
      "cell_type": "markdown",
      "id": "510f3c6e",
      "metadata": {
        "id": "510f3c6e"
      },
      "source": [
        "### Join the tokens to form a sentence"
      ]
    },
    {
      "cell_type": "code",
      "execution_count": 165,
      "id": "488c18e8",
      "metadata": {
        "id": "488c18e8"
      },
      "outputs": [],
      "source": [
        "clean_review_1 = [\" \".join(review) for review in tokens_1]\n",
        "clean_review_2 = [\" \".join(review) for review in tokens_2]"
      ]
    },
    {
      "cell_type": "markdown",
      "id": "86ee5e8a",
      "metadata": {
        "id": "86ee5e8a"
      },
      "source": [
        "### Transform the text using vectorizer and make predictions"
      ]
    },
    {
      "cell_type": "markdown",
      "id": "91ab53e4",
      "metadata": {
        "id": "91ab53e4"
      },
      "source": [
        "### Note: Prediction probability for postive class is high for the first test review"
      ]
    },
    {
      "cell_type": "code",
      "execution_count": 166,
      "id": "4cb6d023",
      "metadata": {
        "id": "4cb6d023"
      },
      "outputs": [],
      "source": [
        "X_test = vect.transform(clean_review_1)"
      ]
    },
    {
      "cell_type": "code",
      "execution_count": 167,
      "id": "67e4e382",
      "metadata": {
        "colab": {
          "base_uri": "https://localhost:8080/"
        },
        "id": "67e4e382",
        "outputId": "01a69cf5-57fe-49ed-dd24-fcbaa028066d"
      },
      "outputs": [
        {
          "output_type": "execute_result",
          "data": {
            "text/plain": [
              "(1, 666)"
            ]
          },
          "metadata": {},
          "execution_count": 167
        }
      ],
      "source": [
        "X_test.shape"
      ]
    },
    {
      "cell_type": "code",
      "execution_count": 168,
      "id": "6d1bc980",
      "metadata": {
        "colab": {
          "base_uri": "https://localhost:8080/"
        },
        "id": "6d1bc980",
        "outputId": "eefc883b-a5b5-4fa9-e5b1-04dae4961e93"
      },
      "outputs": [
        {
          "output_type": "execute_result",
          "data": {
            "text/plain": [
              "array([[0.00441452, 0.99558548]])"
            ]
          },
          "metadata": {},
          "execution_count": 168
        }
      ],
      "source": [
        "model.predict_proba(X_test)"
      ]
    },
    {
      "cell_type": "code",
      "execution_count": 169,
      "id": "7a5e29b9",
      "metadata": {
        "colab": {
          "base_uri": "https://localhost:8080/"
        },
        "id": "7a5e29b9",
        "outputId": "c375a430-4d40-462e-9a72-6a463d4f40d4"
      },
      "outputs": [
        {
          "output_type": "execute_result",
          "data": {
            "text/plain": [
              "array([1])"
            ]
          },
          "metadata": {},
          "execution_count": 169
        }
      ],
      "source": [
        "model.predict(X_test)"
      ]
    },
    {
      "cell_type": "markdown",
      "id": "f8ba62d1",
      "metadata": {
        "id": "f8ba62d1"
      },
      "source": [
        "### Note: Prediction probability for negative class is high for the second test review"
      ]
    },
    {
      "cell_type": "code",
      "execution_count": 170,
      "id": "899b8a47",
      "metadata": {
        "id": "899b8a47"
      },
      "outputs": [],
      "source": [
        "X_test = vect.transform(clean_review_2)"
      ]
    },
    {
      "cell_type": "code",
      "execution_count": 171,
      "id": "796cd905",
      "metadata": {
        "colab": {
          "base_uri": "https://localhost:8080/"
        },
        "id": "796cd905",
        "outputId": "f56b05c6-8b38-4599-b407-6ea54d016d45"
      },
      "outputs": [
        {
          "output_type": "execute_result",
          "data": {
            "text/plain": [
              "(1, 666)"
            ]
          },
          "metadata": {},
          "execution_count": 171
        }
      ],
      "source": [
        "X_test.shape"
      ]
    },
    {
      "cell_type": "code",
      "execution_count": 172,
      "id": "ca80f86d",
      "metadata": {
        "colab": {
          "base_uri": "https://localhost:8080/"
        },
        "id": "ca80f86d",
        "outputId": "2a29a17c-9561-4c65-c2b4-a056170e9738"
      },
      "outputs": [
        {
          "output_type": "execute_result",
          "data": {
            "text/plain": [
              "array([[0.87775701, 0.12224299]])"
            ]
          },
          "metadata": {},
          "execution_count": 172
        }
      ],
      "source": [
        "model.predict_proba(X_test)"
      ]
    },
    {
      "cell_type": "code",
      "execution_count": 173,
      "id": "ad8e7fe1",
      "metadata": {
        "colab": {
          "base_uri": "https://localhost:8080/"
        },
        "id": "ad8e7fe1",
        "outputId": "4d0d15c8-9184-4568-cc90-f66ea63710a6"
      },
      "outputs": [
        {
          "output_type": "execute_result",
          "data": {
            "text/plain": [
              "array([0])"
            ]
          },
          "metadata": {},
          "execution_count": 173
        }
      ],
      "source": [
        "model.predict(X_test)"
      ]
    },
    {
      "cell_type": "markdown",
      "id": "5b27efb9",
      "metadata": {
        "id": "5b27efb9"
      },
      "source": [
        "# Notes on using NLTK"
      ]
    },
    {
      "cell_type": "markdown",
      "id": "acb43219",
      "metadata": {
        "id": "acb43219"
      },
      "source": [
        "For installing NLTK, use the command `pip install nltk` <br />\n",
        "After downloading, the NLTK corpus has to be downloaded <br />\n",
        "Run `import nltk` followed by `nltk.download()` in jupyter notebook <br />\n",
        "This will open a separate window where you can donwnload the necessary packages <br />\n",
        "For this project, you will need the following packages:<br />\n",
        "<ol>\n",
        "<li>punkt</li>\n",
        "<li>stopwords</li>\n",
        "<li>wordnet</li>\n",
        "</ol>"
      ]
    },
    {
      "cell_type": "code",
      "execution_count": null,
      "id": "5b8b6171",
      "metadata": {
        "id": "5b8b6171",
        "outputId": "d1a8f564-da9a-4b12-9603-1f931156d600"
      },
      "outputs": [
        {
          "name": "stdout",
          "output_type": "stream",
          "text": [
            "showing info https://raw.githubusercontent.com/nltk/nltk_data/gh-pages/index.xml\n"
          ]
        },
        {
          "data": {
            "text/plain": [
              "True"
            ]
          },
          "execution_count": 20,
          "metadata": {},
          "output_type": "execute_result"
        }
      ],
      "source": [
        "import nltk\n",
        "nltk.download()"
      ]
    },
    {
      "cell_type": "code",
      "execution_count": null,
      "id": "6911f271",
      "metadata": {
        "id": "6911f271"
      },
      "outputs": [],
      "source": []
    }
  ],
  "metadata": {
    "kernelspec": {
      "display_name": "Python 3",
      "language": "python",
      "name": "python3"
    },
    "language_info": {
      "codemirror_mode": {
        "name": "ipython",
        "version": 3
      },
      "file_extension": ".py",
      "mimetype": "text/x-python",
      "name": "python",
      "nbconvert_exporter": "python",
      "pygments_lexer": "ipython3",
      "version": "3.8.8"
    },
    "colab": {
      "provenance": []
    }
  },
  "nbformat": 4,
  "nbformat_minor": 5
}